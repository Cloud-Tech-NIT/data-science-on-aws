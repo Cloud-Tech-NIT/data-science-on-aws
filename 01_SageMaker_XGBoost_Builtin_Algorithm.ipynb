{
 "cells": [
  {
   "cell_type": "code",
   "execution_count": 2,
   "metadata": {},
   "outputs": [],
   "source": [
    "# from sagemaker.processing import ProcessingInput, ProcessingOutput\n",
    "# from sagemaker.dataset_definition.inputs import AthenaDatasetDefinition, DatasetDefinition, RedshiftDatasetDefinition\n",
    "\n",
    "# data_sources = []"
   ]
  },
  {
   "cell_type": "markdown",
   "metadata": {},
   "source": [
    "## Input - S3 Source: ride-info"
   ]
  },
  {
   "cell_type": "code",
   "execution_count": 3,
   "metadata": {},
   "outputs": [],
   "source": [
    "# data_sources.append(ProcessingInput(\n",
    "#     source=\"s3://dsoaws/nyc-taxi-orig-cleaned-split-parquet-per-year/ride-info/\", # You can override this to point to other dataset on S3\n",
    "#     destination=\"/opt/ml/processing/ride-info\",\n",
    "#     input_name=\"ride-info\",\n",
    "#     s3_data_type=\"S3Prefix\",\n",
    "#     s3_data_distribution_type=\"FullyReplicated\"\n",
    "# ))"
   ]
  },
  {
   "cell_type": "markdown",
   "metadata": {},
   "source": [
    "## Input - S3 Source: ride-fare"
   ]
  },
  {
   "cell_type": "code",
   "execution_count": 4,
   "metadata": {},
   "outputs": [],
   "source": [
    "# data_sources.append(ProcessingInput(\n",
    "#     source=\"s3://dsoaws/nyc-taxi-orig-cleaned-split-parquet-per-year/ride-fare/\", # You can override this to point to other dataset on S3\n",
    "#     destination=\"/opt/ml/processing/ride-fare\",\n",
    "#     input_name=\"ride-fare\",\n",
    "#     s3_data_type=\"S3Prefix\",\n",
    "#     s3_data_distribution_type=\"FullyReplicated\"\n",
    "# ))"
   ]
  },
  {
   "cell_type": "markdown",
   "metadata": {},
   "source": [
    "## Output: S3 settings\n",
    "\n",
    "<div class=\"alert alert-info\"> 💡 <strong> Configurable Settings </strong>\n",
    "\n",
    "1. <b>bucket</b>: you can configure the S3 bucket where Data Wrangler will save the output. The default bucket from \n",
    "the SageMaker notebook session is used. \n",
    "2. <b>flow_export_id</b>: A randomly generated export id. The export id must be unique to ensure the results do not \n",
    "conflict with other flow exports \n",
    "3. <b>s3_ouput_prefix</b>:  you can configure the directory name in your bucket where your data will be saved.\n",
    "</div>"
   ]
  },
  {
   "cell_type": "code",
   "execution_count": 5,
   "metadata": {},
   "outputs": [
    {
     "name": "stdout",
     "output_type": "stream",
     "text": [
      "Data Wrangler export storage bucket: sagemaker-us-east-1-079002598131\n"
     ]
    }
   ],
   "source": [
    "import time\n",
    "import uuid\n",
    "import boto3\n",
    "import sagemaker\n",
    "\n",
    "# Sagemaker session\n",
    "sess = sagemaker.Session()\n",
    "\n",
    "region = boto3.Session().region_name\n",
    "\n",
    "# You can configure this with your own bucket name, e.g.\n",
    "# bucket = \"my-bucket\"\n",
    "bucket = sess.default_bucket()\n",
    "# print(f\"Data Wrangler export storage bucket: {bucket}\")\n",
    "\n",
    "# unique flow export ID\n",
    "# flow_export_id = f\"{time.strftime('%d-%H-%M-%S', time.gmtime())}-{str(uuid.uuid4())[:8]}\"\n",
    "# flow_export_id = f\"{time.strftime('%Y-%m-%d-%H-%M-%S', time.gmtime())}-{str(uuid.uuid4())[:8]}\"\n",
    "# flow_export_name = f\"flow-{flow_export_id}\""
   ]
  },
  {
   "cell_type": "markdown",
   "metadata": {},
   "source": [
    "Below are the inputs required by the SageMaker Python SDK to launch a processing job."
   ]
  },
  {
   "cell_type": "code",
   "execution_count": 6,
   "metadata": {},
   "outputs": [],
   "source": [
    "# # Output name is auto-generated from the select node's ID + output name from the flow file.\n",
    "# # THIS IS THE DEFAULT GENERATE BY DATAWRANGLER\n",
    "# # KHOI: this is only for one of the Transform node, Creating training set\n",
    "# output_name = \"842a9df0-a299-4625-8f8a-ffca58929650.default\"\n",
    "\n",
    "# s3_folder = 'gsml-nyc-taxi-full-etl-ml-test-3-custompyspark-export-s3-via-notebook'\n",
    "# s3_output_prefix = f\"{s3_folder}/export-{flow_export_name}/output\"\n",
    "# s3_output_base_path = f\"s3://{bucket}/{s3_output_prefix}\"\n",
    "# print(f\"Processing output base path: {s3_output_base_path}\\nThe final output location will contain additional subdirectories.\")\n",
    "\n",
    "# processing_job_output = ProcessingOutput(\n",
    "#     output_name=output_name,\n",
    "#     source=\"/opt/ml/processing/output\",\n",
    "#     destination=s3_output_base_path,\n",
    "#     s3_upload_mode=\"EndOfJob\"\n",
    "# )"
   ]
  },
  {
   "cell_type": "code",
   "execution_count": 7,
   "metadata": {
    "tags": []
   },
   "outputs": [
    {
     "name": "stdout",
     "output_type": "stream",
     "text": [
      "Training Processing output base path: s3://sagemaker-us-east-1-079002598131/gsml-nyc-taxi-full-etl-ml-test-4-custompyspark-export-s3-via-notebook/export-flow-2023-03-05-18-35-55-5b413e79/output/training\n",
      "The final output location will contain additional subdirectories.\n",
      "Validation Processing output base path: s3://sagemaker-us-east-1-079002598131/gsml-nyc-taxi-full-etl-ml-test-4-custompyspark-export-s3-via-notebook/export-flow-2023-03-05-18-35-55-5b413e79/output/validation\n",
      "The final output location will contain additional subdirectories.\n"
     ]
    }
   ],
   "source": [
    "# # Output name is auto-generated from the select node's ID + output name from the flow file.\n",
    "# s3_folder = 'gsml-nyc-taxi-full-etl-ml-test-4-custompyspark-export-s3-via-notebook'\n",
    "# s3_output_prefix = f\"{s3_folder}/export-{flow_export_name}/output\"\n",
    "# s3_output_base_path = f\"s3://{bucket}/{s3_output_prefix}\"\n",
    "\n",
    "# # !!!Make sure to change this according to the `node_id` of the exact transformation using the Flow Editor (right click on flow file and Open With Editor)\n",
    "# splitting_data_mapping = {\n",
    "#     'training': '842a9df0-a299-4625-8f8a-ffca58929650',\n",
    "#     'validation': '052787ea-75d7-4079-be2a-3d436a45b0c8', \n",
    "# }\n",
    "\n",
    "# processing_job_outputs = []\n",
    "# for set_name, transform_id in splitting_data_mapping.items():\n",
    "#     output_name = f'{transform_id}.default'\n",
    "#     s3_output_prefix_set = f\"{s3_output_prefix}/{set_name}\"\n",
    "#     s3_output_base_path_set = f\"s3://{bucket}/{s3_output_prefix_set}\"\n",
    "#     print(f\"{set_name.title()} Processing output base path: {s3_output_base_path_set}\\nThe final output location will contain additional subdirectories.\")\n",
    "\n",
    "#     processing_job_outputs.append(ProcessingOutput(output_name=output_name,\n",
    "#                                                    source=f\"/opt/ml/processing/output/{set_name}\",\n",
    "#                                                    destination=s3_output_base_path_set,\n",
    "#                                                    s3_upload_mode=\"EndOfJob\"))"
   ]
  },
  {
   "cell_type": "markdown",
   "metadata": {},
   "source": [
    "## Upload Flow to S3\n",
    "\n",
    "To use the Data Wrangler as an input to the processing job,  first upload your flow file to Amazon S3."
   ]
  },
  {
   "cell_type": "code",
   "execution_count": 8,
   "metadata": {},
   "outputs": [
    {
     "name": "stdout",
     "output_type": "stream",
     "text": [
      "Loading flow file from current notebook working directory: /root/data-science-on-aws.xgboost\n",
      "Data Wrangler flow gsml-nyc-taxi-full-etl-test-3-custompyspark.flow uploaded to s3://sagemaker-us-east-1-079002598131/gsml-nyc-taxi-full-etl-ml-test-4-custompyspark-export-s3-via-notebook/data_wrangler_flows/flow-2023-03-05-18-35-55-5b413e79.flow\n"
     ]
    }
   ],
   "source": [
    "# import os\n",
    "# import json\n",
    "# import boto3\n",
    "\n",
    "# # name of the flow file which should exist in the current notebook working directory\n",
    "# flow_file_name = \"gsml-nyc-taxi-full-etl-test-3-custompyspark.flow\"\n",
    "\n",
    "# # Load .flow file from current notebook working directory \n",
    "# !echo \"Loading flow file from current notebook working directory: $PWD\"\n",
    "\n",
    "# with open(flow_file_name) as f:\n",
    "#     flow = json.load(f)\n",
    "\n",
    "# # Upload flow to S3\n",
    "# s3_client = boto3.client(\"s3\")\n",
    "# flow_file_prefix_and_name = f\"{s3_folder}/data_wrangler_flows/{flow_export_name}.flow\"\n",
    "# s3_client.upload_file(flow_file_name, bucket, flow_file_prefix_and_name, ExtraArgs={\"ServerSideEncryption\": \"aws:kms\"})\n",
    "\n",
    "# flow_s3_uri = f\"s3://{bucket}/{flow_file_prefix_and_name}\"\n",
    "\n",
    "# print(f\"Data Wrangler flow {flow_file_name} uploaded to {flow_s3_uri}\")"
   ]
  },
  {
   "cell_type": "markdown",
   "metadata": {},
   "source": [
    "The Data Wrangler Flow is also provided to the Processing Job as an input source which we configure below."
   ]
  },
  {
   "cell_type": "code",
   "execution_count": 9,
   "metadata": {},
   "outputs": [],
   "source": [
    "# ## Input - Flow: gsml-nyc-taxi-full-etl-test-3-custompyspark.flow\n",
    "# flow_input = ProcessingInput(\n",
    "#     source=flow_s3_uri,\n",
    "#     destination=\"/opt/ml/processing/flow\",\n",
    "#     input_name=\"flow\",\n",
    "#     s3_data_type=\"S3Prefix\",\n",
    "#     s3_data_distribution_type=\"FullyReplicated\"\n",
    "# )"
   ]
  },
  {
   "cell_type": "markdown",
   "metadata": {},
   "source": [
    "# Run Processing Job \n",
    "## Job Configurations\n",
    "\n",
    "<div class=\"alert alert-info\"> 💡 <strong> Configurable Settings </strong>\n",
    "\n",
    "You can configure the following settings for Processing Jobs. If you change any configurations you will \n",
    "need to re-execute this and all cells below it by selecting the Run menu above and click \n",
    "<b>Run Selected Cells and All Below</b>\n",
    "\n",
    "1. IAM role for executing the processing job. \n",
    "2. A unique name of the processing job. Give a unique name every time you re-execute processing jobs\n",
    "3. Data Wrangler Container URL.\n",
    "4. Instance count, instance type and storage volume size in GB.\n",
    "5. Content type for each output. Data Wrangler supports CSV as default and Parquet.\n",
    "6. Network Isolation settings\n",
    "7. KMS key to encrypt output data\n",
    "</div>"
   ]
  },
  {
   "cell_type": "code",
   "execution_count": 10,
   "metadata": {},
   "outputs": [],
   "source": [
    "# from sagemaker import image_uris\n",
    "\n",
    "# # IAM role for executing the processing job.\n",
    "# iam_role = sagemaker.get_execution_role()\n",
    "\n",
    "# # Unique processing job name. Give a unique name every time you re-execute processing jobs.\n",
    "# processing_job_name = f\"data-wrangler-flow-processing-{flow_export_id}\"\n",
    "\n",
    "# # Data Wrangler Container URL.\n",
    "# container_uri = \"663277389841.dkr.ecr.us-east-1.amazonaws.com/sagemaker-data-wrangler-container:2.x\"\n",
    "# # Pinned Data Wrangler Container URL.\n",
    "# container_uri_pinned = \"663277389841.dkr.ecr.us-east-1.amazonaws.com/sagemaker-data-wrangler-container:2.1.2\"\n",
    "\n",
    "# # Processing Job Instance count and instance type.\n",
    "# instance_count = 6\n",
    "# instance_type = \"ml.m5.24xlarge\"\n",
    "\n",
    "# # Size in GB of the EBS volume to use for storing data during processing.\n",
    "# # !KHOI: must change this to at least 200GB for full dataset\n",
    "# volume_size_in_gb = 200\n",
    "\n",
    "\n",
    "# # Content type for each output. Data Wrangler supports CSV as default and Parquet.\n",
    "# output_content_type = \"Parquet\"\n",
    "\n",
    "# # Delimiter to use for the output if the output content type is CSV. Uncomment to set.\n",
    "# # delimiter = \",\"\n",
    "\n",
    "# # Compression to use for the output. Uncomment to set.\n",
    "# # compression = \"gzip\"\n",
    "\n",
    "# # Configuration for partitioning the output. Uncomment to set.\n",
    "# # \"num_partition\" sets the number of partitions/files written in the output.\n",
    "# # \"partition_by\" sets the column names to partition the output by.\n",
    "# # partition_config = {\n",
    "# #     \"num_partitions\": 1,\n",
    "# #     \"partition_by\": [\"column_name_1\", \"column_name_2\"],\n",
    "# # }\n",
    "\n",
    "# # Network Isolation mode; default is off.\n",
    "# enable_network_isolation = False\n",
    "\n",
    "# # List of tags to be passed to the processing job.\n",
    "# user_tags = []\n",
    "\n",
    "# # Output configuration used as processing job container arguments. Only applies when writing to S3.\n",
    "# # Uncomment to set additional configurations.\n",
    "# # output_config = {\n",
    "# #     output_name: {\n",
    "# #         \"content_type\": output_content_type,\n",
    "# #         # \"delimiter\": delimiter,\n",
    "# #         # \"compression\": compression,\n",
    "# #         # \"partition_config\": partition_config,\n",
    "# #     }\n",
    "# # }\n",
    "\n",
    "# # KHOI: has to create separate output_config for each output:\n",
    "# output_configs = []\n",
    "# for set_name, transform_id in splitting_data_mapping.items():\n",
    "#     output_name = f'{transform_id}.default'\n",
    "#     output_configs.append({\n",
    "#         output_name: {\n",
    "#             \"content_type\": output_content_type,\n",
    "#             # \"delimiter\": delimiter,\n",
    "#             # \"compression\": compression,\n",
    "#             # \"partition_config\": partition_config,\n",
    "#         }\n",
    "#     })\n",
    "\n",
    "# # Refit configuration determines whether Data Wrangler refits the trainable parameters on the entire dataset. \n",
    "# # When True, the processing job relearns the parameters and outputs a new flow file.\n",
    "# # You can specify the name of the output flow file under 'output_flow'.\n",
    "# # Note: There are length constraints on the container arguments (max 256 characters).\n",
    "# refit_trained_params = {\n",
    "#     \"refit\": False,\n",
    "#     \"output_flow\": f\"data-wrangler-flow-processing-{flow_export_id}.flow\"\n",
    "# }\n",
    "\n",
    "# # KMS key for per object encryption; default is None.\n",
    "# kms_key = None"
   ]
  },
  {
   "cell_type": "markdown",
   "metadata": {},
   "source": [
    "### (Optional) Configure Spark Cluster Driver Memory"
   ]
  },
  {
   "cell_type": "code",
   "execution_count": 11,
   "metadata": {},
   "outputs": [
    {
     "name": "stdout",
     "output_type": "stream",
     "text": [
      "Spark Config file uploaded to s3://sagemaker-us-east-1-079002598131/gsml-nyc-taxi-full-etl-ml-test-4-custompyspark-export-s3-via-notebook/spark_configuration/data-wrangler-flow-processing-2023-03-05-18-35-55-5b413e79/configuration.json\n"
     ]
    }
   ],
   "source": [
    "# # The Spark memory configuration. Change to specify the driver and executor memory in MB for the Spark cluster during processing.\n",
    "# driver_memory_in_mb = 2048\n",
    "# executor_memory_in_mb = 55742\n",
    "\n",
    "# config = json.dumps({\n",
    "#     \"Classification\": \"spark-defaults\",\n",
    "#     \"Properties\": {\n",
    "#         \"spark.driver.memory\": f\"{driver_memory_in_mb}m\",\n",
    "#         \"spark.executor.memory\": f\"{executor_memory_in_mb}m\"\n",
    "#     }\n",
    "# })\n",
    "\n",
    "# config_file = f\"config-{flow_export_id}.json\"\n",
    "# with open(config_file, \"w\") as f:\n",
    "#     f.write(config)\n",
    "\n",
    "# config_s3_path = f\"{s3_folder}/spark_configuration/{processing_job_name}/configuration.json\"\n",
    "# config_s3_uri = f\"s3://{bucket}/{config_s3_path}\"\n",
    "# s3_client.upload_file(config_file, bucket, config_s3_path, ExtraArgs={\"ServerSideEncryption\": \"aws:kms\"})\n",
    "# print(f\"Spark Config file uploaded to {config_s3_uri}\")\n",
    "# os.remove(config_file)\n",
    "\n",
    "# # Provides the spark config file to processing job and set the cluster driver memory. Uncomment to set.\n",
    "# # data_sources.append(ProcessingInput(\n",
    "# #     source=config_s3_uri,\n",
    "# #     destination=\"/opt/ml/processing/input/conf\",\n",
    "# #     input_name=\"spark-config\",\n",
    "# #     s3_data_type=\"S3Prefix\",\n",
    "# #     s3_input_mode=\"File\",\n",
    "# #     s3_data_distribution_type=\"FullyReplicated\"\n",
    "# # ))"
   ]
  },
  {
   "cell_type": "markdown",
   "metadata": {},
   "source": [
    "## Create Processing Job\n",
    "\n",
    "To launch a Processing Job, you will use the SageMaker Python SDK to create a Processor function."
   ]
  },
  {
   "cell_type": "code",
   "execution_count": 12,
   "metadata": {},
   "outputs": [],
   "source": [
    "# # Setup processing job network configuration\n",
    "# from sagemaker.network import NetworkConfig\n",
    "\n",
    "# network_config = NetworkConfig(\n",
    "#         enable_network_isolation=enable_network_isolation,\n",
    "#         security_group_ids=None,\n",
    "#         subnets=None\n",
    "#     )"
   ]
  },
  {
   "cell_type": "code",
   "execution_count": 13,
   "metadata": {},
   "outputs": [],
   "source": [
    "# from sagemaker.processing import Processor\n",
    "\n",
    "# processor = Processor(\n",
    "#     role=iam_role,\n",
    "#     image_uri=container_uri,\n",
    "#     instance_count=instance_count,\n",
    "#     instance_type=instance_type,\n",
    "#     volume_size_in_gb=volume_size_in_gb,\n",
    "#     network_config=network_config,\n",
    "#     sagemaker_session=sess,\n",
    "#     output_kms_key=kms_key,\n",
    "#     tags=user_tags\n",
    "# )\n",
    "\n",
    "# # # Start Job\n",
    "# # processor.run(\n",
    "# #     inputs=[flow_input] + data_sources, \n",
    "# #     outputs=[processing_job_output],\n",
    "# #     arguments=[f\"--output-config '{json.dumps(output_config)}'\"] + [f\"--refit-trained-params '{json.dumps(refit_trained_params)}'\"],\n",
    "# #     wait=False,\n",
    "# #     logs=False,\n",
    "# #     job_name=processing_job_name\n",
    "# # )"
   ]
  },
  {
   "cell_type": "markdown",
   "metadata": {},
   "source": [
    "## Job Status & S3 Output Location\n",
    "\n",
    "Below you wait for processing job to finish. If it finishes successfully, the raw parameters used by the \n",
    "Processing Job will be printed.\n",
    "\n",
    "To prevent data of different processing jobs and different output nodes from being overwritten or combined, \n",
    "Data Wrangler uses the name of the processing job and the name of the output to write the output."
   ]
  },
  {
   "cell_type": "code",
   "execution_count": 14,
   "metadata": {
    "tags": []
   },
   "outputs": [
    {
     "name": "stdout",
     "output_type": "stream",
     "text": [
      "3.7.10 (default, Jun  4 2021, 14:48:32) \n",
      "[GCC 7.5.0]\n"
     ]
    }
   ],
   "source": [
    "# import sys\n",
    "# print(sys.version)"
   ]
  },
  {
   "cell_type": "code",
   "execution_count": 15,
   "metadata": {
    "tags": []
   },
   "outputs": [
    {
     "name": "stdout",
     "output_type": "stream",
     "text": [
      "S3 base path: s3://sagemaker-us-east-1-079002598131/gsml-nyc-taxi-full-etl-ml-test-4-custompyspark-export-s3-via-notebook/export-flow-2023-03-05-18-35-55-5b413e79/output\n",
      "Processing job name: data-wrangler-flow-processing-2023-03-05-18-35-55-5b413e79\n"
     ]
    }
   ],
   "source": [
    "# print(f'S3 base path: {s3_output_base_path}')\n",
    "# print(f'Processing job name: {processing_job_name}')"
   ]
  },
  {
   "cell_type": "code",
   "execution_count": 16,
   "metadata": {},
   "outputs": [],
   "source": [
    "# output_args = [f\"--output-config '{json.dumps(output_config)}'\" for output_config in output_configs]\n",
    "\n",
    "# # Start Job\n",
    "# processor.run(\n",
    "#     inputs=[flow_input] + data_sources, \n",
    "#     outputs=processing_job_outputs,\n",
    "#     arguments=output_args + [f\"--refit-trained-params '{json.dumps(refit_trained_params)}'\"],\n",
    "#     wait=False,\n",
    "#     logs=False,\n",
    "#     job_name=processing_job_name\n",
    "# )\n",
    "\n",
    "# # Status\n",
    "# training_set_specific_path = f'{list(splitting_data_mapping.values())[0]}.default'\n",
    "# s3_job_results_training_path = f\"{s3_output_base_path}/{list(splitting_data_mapping.keys())[0]}/{processing_job_name}/{training_set_specific_path.replace('.', '/')}\"\n",
    "# print(f\"Job results (training set) are saved to S3 path: {s3_job_results_training_path}\")\n",
    "# validation_set_specific_path = f'{list(splitting_data_mapping.values())[1]}.default'\n",
    "# s3_job_results_validation_path = f\"{s3_output_base_path}/{list(splitting_data_mapping.keys())[1]}/{processing_job_name}/{validation_set_specific_path.replace('.', '/')}\"\n",
    "# print(f\"Job results (validation set) are saved to S3 path: {s3_job_results_validation_path}\")\n",
    "\n",
    "# job_result = sess.wait_for_processing_job(processing_job_name)\n",
    "# job_result"
   ]
  },
  {
   "cell_type": "markdown",
   "metadata": {},
   "source": [
    "# TODO:  Figure out why Data Wrangler is not splitting properly"
   ]
  },
  {
   "cell_type": "markdown",
   "metadata": {},
   "source": [
    "## Train a model with SageMaker\n",
    "Now that the data has been processed, you may want to train a model using the data. The following shows an \n",
    "example of doing so using a popular algorithm - XGBoost. For more information on algorithms available in \n",
    "SageMaker, see [Getting Started with SageMaker Algorithms](https://docs.aws.amazon.com/sagemaker/latest/dg/algos.html). \n",
    "It is important to note that the following XGBoost objective ['binary', 'regression', 'multiclass'] \n",
    "hyperparameters, or content_type may not be suitable for the output data, and will require changes to \n",
    "train a proper model. Furthermore, for CSV training, the algorithm assumes that the target \n",
    "variable is in the first column. For more information on SageMaker XGBoost, \n",
    "see https://docs.aws.amazon.com/sagemaker/latest/dg/xgboost.html.\n",
    "\n",
    "\n",
    "### Set Training Data and Validation Data paths\n",
    "We set the training input data path from the output of the Data Wrangler processing job.."
   ]
  },
  {
   "cell_type": "code",
   "execution_count": 2,
   "metadata": {},
   "outputs": [
    {
     "name": "stdout",
     "output_type": "stream",
     "text": [
      "Training input data path: s3://dsoaws/gsml-nyc-taxi-full-etl-ml-test-4-custompyspark-export-s3-via-notebook/export-flow-2023-03-02-03-32-10-53926e35/output/training/\n",
      "Validation input data path: s3://dsoaws/gsml-nyc-taxi-full-etl-ml-test-4-custompyspark-export-s3-via-notebook/export-flow-2023-03-02-03-32-10-53926e35/output/validation/\n"
     ]
    }
   ],
   "source": [
    "output_content_type = \"Parquet\"\n",
    "\n",
    "train_set_s3_uri = 's3://dsoaws/gsml-nyc-taxi-full-etl-ml-test-4-custompyspark-export-s3-via-notebook/export-flow-2023-03-02-03-32-10-53926e35/output/training/'\n",
    "validation_set_s3_uri = 's3://dsoaws/gsml-nyc-taxi-full-etl-ml-test-4-custompyspark-export-s3-via-notebook/export-flow-2023-03-02-03-32-10-53926e35/output/validation/'\n",
    "\n",
    "print(f\"Training input data path: {train_set_s3_uri}\")\n",
    "print(f\"Validation input data path: {validation_set_s3_uri}\")"
   ]
  },
  {
   "cell_type": "code",
   "execution_count": 4,
   "metadata": {},
   "outputs": [],
   "source": []
  },
  {
   "cell_type": "markdown",
   "metadata": {},
   "source": [
    "### Configure the algorithm and training job\n",
    "\n",
    "The Training Job hyperparameters are set. For more information on XGBoost Hyperparameters, \n",
    "see https://xgboost.readthedocs.io/en/latest/parameter.html."
   ]
  },
  {
   "cell_type": "code",
   "execution_count": 8,
   "metadata": {},
   "outputs": [],
   "source": [
    "import boto3\n",
    "import sagemaker\n",
    "\n",
    "role = sagemaker.get_execution_role()\n",
    "region = sagemaker.Session().boto_region_name\n",
    "bucket = sagemaker.Session().default_bucket()\n",
    "\n",
    "container = sagemaker.image_uris.retrieve(\"xgboost\", region, \"1.5-1\")\n",
    "\n",
    "train_content_type = (\n",
    "    \"application/x-parquet\" if output_content_type.upper() == \"PARQUET\"\n",
    "    else \"text/csv\"\n",
    ")\n",
    "train_input = sagemaker.inputs.TrainingInput(\n",
    "    s3_data=train_set_s3_uri,\n",
    "    content_type=train_content_type,\n",
    "    distribution='ShardedByS3Key',\n",
    "    input_mode='FastFile'\n",
    ")\n",
    "\n",
    "validation_content_type = (\n",
    "    \"application/x-parquet\" if output_content_type.upper() == \"PARQUET\"\n",
    "    else \"text/csv\"\n",
    ")\n",
    "validation_input = sagemaker.inputs.TrainingInput(\n",
    "    s3_data=validation_set_s3_uri,\n",
    "    content_type=validation_content_type,\n",
    "    distribution='ShardedByS3Key',\n",
    "    input_mode='FastFile'    \n",
    ")\n",
    "\n",
    "\n",
    "s3_folder = 'sagemaker-xgboost-builtin-algorithm'\n",
    "s3_training_job_output_prefix = f\"{s3_folder}/built-in-xgboost\"\n",
    "training_job_output_path = 's3://{}/{}/{}/output'.format(bucket, s3_training_job_output_prefix, 'nyc-taxi-full-built-in-xgboost')\n",
    "\n",
    "hyperparameters = {\n",
    "    \"eta\": \"0.2\",\n",
    "    \"gamma\": \"4\",\n",
    "    \"max_depth\": \"5\",\n",
    "    \"min_child_weight\": \"6\",\n",
    "    \"num_round\": \"50\",\n",
    "    \"objective\": \"reg:squarederror\",\n",
    "    \"subsample\": \"0.7\"\n",
    "}"
   ]
  },
  {
   "cell_type": "markdown",
   "metadata": {},
   "source": [
    "### Start the Training Job\n",
    "\n",
    "The TrainingJob configurations are set using the SageMaker Python SDK Estimator, and which is fit using \n",
    "the training data from the Processing Job that was run earlier."
   ]
  },
  {
   "cell_type": "code",
   "execution_count": 11,
   "metadata": {
    "tags": []
   },
   "outputs": [],
   "source": [
    "estimator = sagemaker.estimator.Estimator(\n",
    "    container,\n",
    "    role,\n",
    "    hyperparameters=hyperparameters,\n",
    "    instance_count=6,\n",
    "    instance_type=\"ml.m5.24xlarge\",\n",
    "    volume_size=200,\n",
    ")"
   ]
  },
  {
   "cell_type": "code",
   "execution_count": null,
   "metadata": {
    "tags": []
   },
   "outputs": [
    {
     "name": "stdout",
     "output_type": "stream",
     "text": [
      "sagemaker-xgboost-built-in-2023-03-05-20-31-27\n",
      "experiment-run-2023-03-05-20-31-27\n"
     ]
    },
    {
     "name": "stderr",
     "output_type": "stream",
     "text": [
      "INFO:sagemaker:Creating training-job with name: sagemaker-xgboost-2023-03-05-20-31-27-888\n"
     ]
    },
    {
     "name": "stdout",
     "output_type": "stream",
     "text": [
      "2023-03-05 20:31:28 Starting - Starting the training job."
     ]
    }
   ],
   "source": [
    "import time\n",
    "import sagemaker\n",
    "\n",
    "experiment_name = f\"sagemaker-xgboost-built-in-{time.strftime('%Y-%m-%d-%H-%M-%S', time.gmtime())}\"\n",
    "print(experiment_name)\n",
    "\n",
    "run_name = f\"experiment-run-{time.strftime('%Y-%m-%d-%H-%M-%S', time.gmtime())}\"\n",
    "print(run_name)\n",
    "\n",
    "#with sagemaker.experiments.load_run(experiment_name=experiment_name, run_name=run_name, sagemaker_session=sagemaker.session.Session()) as run:\n",
    "\n",
    "training_job_results = estimator.fit({\"train\": train_input, \n",
    "                                      #'validation': validation_input}\n",
    "                                     })\n",
    "print(training_job_results)\n",
    "    \n",
    "#     # Define metrics to log\n",
    "#     run.log_metric(name = \"Final Test Loss\", value = score[0])\n",
    "#     run.log_metric(name = \"Final Test Loss\", value = score[1])"
   ]
  },
  {
   "cell_type": "code",
   "execution_count": null,
   "metadata": {},
   "outputs": [],
   "source": []
  }
 ],
 "metadata": {
  "availableInstances": [
   {
    "_defaultOrder": 0,
    "_isFastLaunch": true,
    "category": "General purpose",
    "gpuNum": 0,
    "memoryGiB": 4,
    "name": "ml.t3.medium",
    "vcpuNum": 2
   },
   {
    "_defaultOrder": 1,
    "_isFastLaunch": false,
    "category": "General purpose",
    "gpuNum": 0,
    "memoryGiB": 8,
    "name": "ml.t3.large",
    "vcpuNum": 2
   },
   {
    "_defaultOrder": 2,
    "_isFastLaunch": false,
    "category": "General purpose",
    "gpuNum": 0,
    "memoryGiB": 16,
    "name": "ml.t3.xlarge",
    "vcpuNum": 4
   },
   {
    "_defaultOrder": 3,
    "_isFastLaunch": false,
    "category": "General purpose",
    "gpuNum": 0,
    "memoryGiB": 32,
    "name": "ml.t3.2xlarge",
    "vcpuNum": 8
   },
   {
    "_defaultOrder": 4,
    "_isFastLaunch": true,
    "category": "General purpose",
    "gpuNum": 0,
    "memoryGiB": 8,
    "name": "ml.m5.large",
    "vcpuNum": 2
   },
   {
    "_defaultOrder": 5,
    "_isFastLaunch": false,
    "category": "General purpose",
    "gpuNum": 0,
    "memoryGiB": 16,
    "name": "ml.m5.xlarge",
    "vcpuNum": 4
   },
   {
    "_defaultOrder": 6,
    "_isFastLaunch": false,
    "category": "General purpose",
    "gpuNum": 0,
    "memoryGiB": 32,
    "name": "ml.m5.2xlarge",
    "vcpuNum": 8
   },
   {
    "_defaultOrder": 7,
    "_isFastLaunch": false,
    "category": "General purpose",
    "gpuNum": 0,
    "memoryGiB": 64,
    "name": "ml.m5.4xlarge",
    "vcpuNum": 16
   },
   {
    "_defaultOrder": 8,
    "_isFastLaunch": false,
    "category": "General purpose",
    "gpuNum": 0,
    "memoryGiB": 128,
    "name": "ml.m5.8xlarge",
    "vcpuNum": 32
   },
   {
    "_defaultOrder": 9,
    "_isFastLaunch": false,
    "category": "General purpose",
    "gpuNum": 0,
    "memoryGiB": 192,
    "name": "ml.m5.12xlarge",
    "vcpuNum": 48
   },
   {
    "_defaultOrder": 10,
    "_isFastLaunch": false,
    "category": "General purpose",
    "gpuNum": 0,
    "memoryGiB": 256,
    "name": "ml.m5.16xlarge",
    "vcpuNum": 64
   },
   {
    "_defaultOrder": 11,
    "_isFastLaunch": false,
    "category": "General purpose",
    "gpuNum": 0,
    "memoryGiB": 384,
    "name": "ml.m5.24xlarge",
    "vcpuNum": 96
   },
   {
    "_defaultOrder": 12,
    "_isFastLaunch": false,
    "category": "General purpose",
    "gpuNum": 0,
    "memoryGiB": 8,
    "name": "ml.m5d.large",
    "vcpuNum": 2
   },
   {
    "_defaultOrder": 13,
    "_isFastLaunch": false,
    "category": "General purpose",
    "gpuNum": 0,
    "memoryGiB": 16,
    "name": "ml.m5d.xlarge",
    "vcpuNum": 4
   },
   {
    "_defaultOrder": 14,
    "_isFastLaunch": false,
    "category": "General purpose",
    "gpuNum": 0,
    "memoryGiB": 32,
    "name": "ml.m5d.2xlarge",
    "vcpuNum": 8
   },
   {
    "_defaultOrder": 15,
    "_isFastLaunch": false,
    "category": "General purpose",
    "gpuNum": 0,
    "memoryGiB": 64,
    "name": "ml.m5d.4xlarge",
    "vcpuNum": 16
   },
   {
    "_defaultOrder": 16,
    "_isFastLaunch": false,
    "category": "General purpose",
    "gpuNum": 0,
    "memoryGiB": 128,
    "name": "ml.m5d.8xlarge",
    "vcpuNum": 32
   },
   {
    "_defaultOrder": 17,
    "_isFastLaunch": false,
    "category": "General purpose",
    "gpuNum": 0,
    "memoryGiB": 192,
    "name": "ml.m5d.12xlarge",
    "vcpuNum": 48
   },
   {
    "_defaultOrder": 18,
    "_isFastLaunch": false,
    "category": "General purpose",
    "gpuNum": 0,
    "memoryGiB": 256,
    "name": "ml.m5d.16xlarge",
    "vcpuNum": 64
   },
   {
    "_defaultOrder": 19,
    "_isFastLaunch": false,
    "category": "General purpose",
    "gpuNum": 0,
    "memoryGiB": 384,
    "name": "ml.m5d.24xlarge",
    "vcpuNum": 96
   },
   {
    "_defaultOrder": 20,
    "_isFastLaunch": true,
    "category": "Compute optimized",
    "gpuNum": 0,
    "memoryGiB": 4,
    "name": "ml.c5.large",
    "vcpuNum": 2
   },
   {
    "_defaultOrder": 21,
    "_isFastLaunch": false,
    "category": "Compute optimized",
    "gpuNum": 0,
    "memoryGiB": 8,
    "name": "ml.c5.xlarge",
    "vcpuNum": 4
   },
   {
    "_defaultOrder": 22,
    "_isFastLaunch": false,
    "category": "Compute optimized",
    "gpuNum": 0,
    "memoryGiB": 16,
    "name": "ml.c5.2xlarge",
    "vcpuNum": 8
   },
   {
    "_defaultOrder": 23,
    "_isFastLaunch": false,
    "category": "Compute optimized",
    "gpuNum": 0,
    "memoryGiB": 32,
    "name": "ml.c5.4xlarge",
    "vcpuNum": 16
   },
   {
    "_defaultOrder": 24,
    "_isFastLaunch": false,
    "category": "Compute optimized",
    "gpuNum": 0,
    "memoryGiB": 72,
    "name": "ml.c5.9xlarge",
    "vcpuNum": 36
   },
   {
    "_defaultOrder": 25,
    "_isFastLaunch": false,
    "category": "Compute optimized",
    "gpuNum": 0,
    "memoryGiB": 96,
    "name": "ml.c5.12xlarge",
    "vcpuNum": 48
   },
   {
    "_defaultOrder": 26,
    "_isFastLaunch": false,
    "category": "Compute optimized",
    "gpuNum": 0,
    "memoryGiB": 144,
    "name": "ml.c5.18xlarge",
    "vcpuNum": 72
   },
   {
    "_defaultOrder": 27,
    "_isFastLaunch": false,
    "category": "Compute optimized",
    "gpuNum": 0,
    "memoryGiB": 192,
    "name": "ml.c5.24xlarge",
    "vcpuNum": 96
   },
   {
    "_defaultOrder": 28,
    "_isFastLaunch": true,
    "category": "Accelerated computing",
    "gpuNum": 1,
    "memoryGiB": 16,
    "name": "ml.g4dn.xlarge",
    "vcpuNum": 4
   },
   {
    "_defaultOrder": 29,
    "_isFastLaunch": false,
    "category": "Accelerated computing",
    "gpuNum": 1,
    "memoryGiB": 32,
    "name": "ml.g4dn.2xlarge",
    "vcpuNum": 8
   },
   {
    "_defaultOrder": 30,
    "_isFastLaunch": false,
    "category": "Accelerated computing",
    "gpuNum": 1,
    "memoryGiB": 64,
    "name": "ml.g4dn.4xlarge",
    "vcpuNum": 16
   },
   {
    "_defaultOrder": 31,
    "_isFastLaunch": false,
    "category": "Accelerated computing",
    "gpuNum": 1,
    "memoryGiB": 128,
    "name": "ml.g4dn.8xlarge",
    "vcpuNum": 32
   },
   {
    "_defaultOrder": 32,
    "_isFastLaunch": false,
    "category": "Accelerated computing",
    "gpuNum": 4,
    "memoryGiB": 192,
    "name": "ml.g4dn.12xlarge",
    "vcpuNum": 48
   },
   {
    "_defaultOrder": 33,
    "_isFastLaunch": false,
    "category": "Accelerated computing",
    "gpuNum": 1,
    "memoryGiB": 256,
    "name": "ml.g4dn.16xlarge",
    "vcpuNum": 64
   },
   {
    "_defaultOrder": 34,
    "_isFastLaunch": false,
    "category": "Accelerated computing",
    "gpuNum": 1,
    "memoryGiB": 61,
    "name": "ml.p3.2xlarge",
    "vcpuNum": 8
   },
   {
    "_defaultOrder": 35,
    "_isFastLaunch": false,
    "category": "Accelerated computing",
    "gpuNum": 4,
    "memoryGiB": 244,
    "name": "ml.p3.8xlarge",
    "vcpuNum": 32
   },
   {
    "_defaultOrder": 36,
    "_isFastLaunch": false,
    "category": "Accelerated computing",
    "gpuNum": 8,
    "memoryGiB": 488,
    "name": "ml.p3.16xlarge",
    "vcpuNum": 64
   },
   {
    "_defaultOrder": 37,
    "_isFastLaunch": false,
    "category": "Accelerated computing",
    "gpuNum": 8,
    "memoryGiB": 768,
    "name": "ml.p3dn.24xlarge",
    "vcpuNum": 96
   },
   {
    "_defaultOrder": 38,
    "_isFastLaunch": false,
    "category": "Memory Optimized",
    "gpuNum": 0,
    "memoryGiB": 16,
    "name": "ml.r5.large",
    "vcpuNum": 2
   },
   {
    "_defaultOrder": 39,
    "_isFastLaunch": false,
    "category": "Memory Optimized",
    "gpuNum": 0,
    "memoryGiB": 32,
    "name": "ml.r5.xlarge",
    "vcpuNum": 4
   },
   {
    "_defaultOrder": 40,
    "_isFastLaunch": false,
    "category": "Memory Optimized",
    "gpuNum": 0,
    "memoryGiB": 64,
    "name": "ml.r5.2xlarge",
    "vcpuNum": 8
   },
   {
    "_defaultOrder": 41,
    "_isFastLaunch": false,
    "category": "Memory Optimized",
    "gpuNum": 0,
    "memoryGiB": 128,
    "name": "ml.r5.4xlarge",
    "vcpuNum": 16
   },
   {
    "_defaultOrder": 42,
    "_isFastLaunch": false,
    "category": "Memory Optimized",
    "gpuNum": 0,
    "memoryGiB": 256,
    "name": "ml.r5.8xlarge",
    "vcpuNum": 32
   },
   {
    "_defaultOrder": 43,
    "_isFastLaunch": false,
    "category": "Memory Optimized",
    "gpuNum": 0,
    "memoryGiB": 384,
    "name": "ml.r5.12xlarge",
    "vcpuNum": 48
   },
   {
    "_defaultOrder": 44,
    "_isFastLaunch": false,
    "category": "Memory Optimized",
    "gpuNum": 0,
    "memoryGiB": 512,
    "name": "ml.r5.16xlarge",
    "vcpuNum": 64
   },
   {
    "_defaultOrder": 45,
    "_isFastLaunch": false,
    "category": "Memory Optimized",
    "gpuNum": 0,
    "memoryGiB": 768,
    "name": "ml.r5.24xlarge",
    "vcpuNum": 96
   },
   {
    "_defaultOrder": 46,
    "_isFastLaunch": false,
    "category": "Accelerated computing",
    "gpuNum": 1,
    "memoryGiB": 16,
    "name": "ml.g5.xlarge",
    "vcpuNum": 4
   },
   {
    "_defaultOrder": 47,
    "_isFastLaunch": false,
    "category": "Accelerated computing",
    "gpuNum": 1,
    "memoryGiB": 32,
    "name": "ml.g5.2xlarge",
    "vcpuNum": 8
   },
   {
    "_defaultOrder": 48,
    "_isFastLaunch": false,
    "category": "Accelerated computing",
    "gpuNum": 1,
    "memoryGiB": 64,
    "name": "ml.g5.4xlarge",
    "vcpuNum": 16
   },
   {
    "_defaultOrder": 49,
    "_isFastLaunch": false,
    "category": "Accelerated computing",
    "gpuNum": 1,
    "memoryGiB": 128,
    "name": "ml.g5.8xlarge",
    "vcpuNum": 32
   },
   {
    "_defaultOrder": 50,
    "_isFastLaunch": false,
    "category": "Accelerated computing",
    "gpuNum": 1,
    "memoryGiB": 256,
    "name": "ml.g5.16xlarge",
    "vcpuNum": 64
   },
   {
    "_defaultOrder": 51,
    "_isFastLaunch": false,
    "category": "Accelerated computing",
    "gpuNum": 4,
    "memoryGiB": 192,
    "name": "ml.g5.12xlarge",
    "vcpuNum": 48
   },
   {
    "_defaultOrder": 52,
    "_isFastLaunch": false,
    "category": "Accelerated computing",
    "gpuNum": 4,
    "memoryGiB": 384,
    "name": "ml.g5.24xlarge",
    "vcpuNum": 96
   },
   {
    "_defaultOrder": 53,
    "_isFastLaunch": false,
    "category": "Accelerated computing",
    "gpuNum": 8,
    "memoryGiB": 768,
    "name": "ml.g5.48xlarge",
    "vcpuNum": 192
   }
  ],
  "instance_type": "ml.m5.2xlarge",
  "kernelspec": {
   "display_name": "Python 3 (Data Science)",
   "language": "python",
   "name": "python3__SAGEMAKER_INTERNAL__arn:aws:sagemaker:us-east-1:081325390199:image/datascience-1.0"
  },
  "language_info": {
   "codemirror_mode": {
    "name": "ipython",
    "version": 3
   },
   "file_extension": ".py",
   "mimetype": "text/x-python",
   "name": "python",
   "nbconvert_exporter": "python",
   "pygments_lexer": "ipython3",
   "version": "3.7.10"
  }
 },
 "nbformat": 4,
 "nbformat_minor": 4
}
