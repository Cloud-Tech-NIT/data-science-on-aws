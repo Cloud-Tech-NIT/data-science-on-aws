{
 "cells": [
  {
   "cell_type": "code",
   "execution_count": 2,
   "metadata": {},
   "outputs": [],
   "source": [
    "import time\n",
    "import uuid\n",
    "import boto3\n",
    "import sagemaker\n",
    "\n",
    "sess = sagemaker.Session()\n",
    "region = boto3.Session().region_name\n",
    "bucket = sess.default_bucket()\n",
    "role = sagemaker.get_execution_role()"
   ]
  },
  {
   "cell_type": "code",
   "execution_count": 3,
   "metadata": {
    "tags": []
   },
   "outputs": [],
   "source": [
    "#model_training_s3_uri = 's3://dsoaws/nyc-taxi-orig-cleaned-dropped-parquet-per-year-multiple-files/'\n",
    "\n",
    "model_training_s3_uri = 's3://dsoaws/nyc-taxi-orig-cleaned-dropped-parquet-all-years-multiple-files-100GB/'"
   ]
  },
  {
   "cell_type": "markdown",
   "metadata": {},
   "source": [
    "### Configure the algorithm and training job\n",
    "\n",
    "The Training Job hyperparameters are set. For more information on XGBoost Hyperparameters, \n",
    "see https://xgboost.readthedocs.io/en/latest/parameter.html."
   ]
  },
  {
   "cell_type": "code",
   "execution_count": 4,
   "metadata": {},
   "outputs": [],
   "source": [
    "container = sagemaker.image_uris.retrieve(\"xgboost\", region, \"1.5-1\")\n",
    "\n",
    "output_content_type = \"parquet\"\n",
    "\n",
    "train_content_type = (\n",
    "    \"application/x-parquet\" if output_content_type.upper() == \"PARQUET\"\n",
    "    else \"text/csv\"\n",
    ")\n",
    "train_input = sagemaker.inputs.TrainingInput(\n",
    "    s3_data=model_training_s3_uri,\n",
    "    content_type=train_content_type,\n",
    "    distribution='ShardedByS3Key',\n",
    "    input_mode='FastFile'\n",
    ")\n",
    "\n",
    "hyperparameters = {\n",
    "    \"eta\": \"0.2\",\n",
    "    \"gamma\": \"4\",\n",
    "    \"max_depth\": \"5\",\n",
    "    \"min_child_weight\": \"6\",\n",
    "    \"num_round\": \"50\",\n",
    "    \"objective\": \"reg:squarederror\",\n",
    "    \"subsample\": \"0.7\"\n",
    "}"
   ]
  },
  {
   "cell_type": "markdown",
   "metadata": {},
   "source": [
    "### Start the Training Job\n",
    "\n",
    "The TrainingJob configurations are set using the SageMaker Python SDK Estimator, and which is fit using \n",
    "the training data from the Processing Job that was run earlier."
   ]
  },
  {
   "cell_type": "code",
   "execution_count": 5,
   "metadata": {
    "tags": []
   },
   "outputs": [],
   "source": [
    "estimator = sagemaker.estimator.Estimator(\n",
    "    container,\n",
    "    role,\n",
    "    hyperparameters=hyperparameters,\n",
    "    instance_count=6,\n",
    "    instance_type=\"ml.m5.24xlarge\",\n",
    "    volume_size=200,\n",
    ")"
   ]
  },
  {
   "cell_type": "code",
   "execution_count": null,
   "metadata": {
    "tags": []
   },
   "outputs": [
    {
     "name": "stderr",
     "output_type": "stream",
     "text": [
      "INFO:sagemaker:Creating training-job with name: sagemaker-xgboost-2023-03-08-07-21-38-644\n"
     ]
    },
    {
     "name": "stdout",
     "output_type": "stream",
     "text": [
      "2023-03-08 07:21:39 Starting - Starting the training job...\n",
      "2023-03-08 07:21:54 Starting - Preparing the instances for training......\n",
      "2023-03-08 07:23:07 Downloading - Downloading input data......\n",
      "2023-03-08 07:24:08 Training - Training image download completed. Training in progress..\u001b[34m[2023-03-08 07:24:10.119 ip-10-0-204-145.ec2.internal:7 INFO utils.py:28] RULE_JOB_STOP_SIGNAL_FILENAME: None\u001b[0m\n",
      "\u001b[34m[2023-03-08 07:24:10.175 ip-10-0-204-145.ec2.internal:7 INFO profiler_config_parser.py:111] User has disabled profiler.\u001b[0m\n",
      "\u001b[34m[2023-03-08:07:24:10:INFO] Imported framework sagemaker_xgboost_container.training\u001b[0m\n",
      "\u001b[34m[2023-03-08:07:24:10:INFO] Failed to parse hyperparameter objective value reg:squarederror to Json.\u001b[0m\n",
      "\u001b[34mReturning the value itself\u001b[0m\n",
      "\u001b[34m[2023-03-08:07:24:10:INFO] No GPUs detected (normal if no gpus installed)\u001b[0m\n",
      "\u001b[34m[2023-03-08:07:24:10:INFO] Running XGBoost Sagemaker in algorithm mode\u001b[0m\n",
      "\u001b[34m[2023-03-08:07:24:10:INFO] Determined 0 GPU(s) available on the instance.\u001b[0m\n",
      "\u001b[34m[2023-03-08:07:24:10:INFO] files path: /opt/ml/input/data/train/01\u001b[0m\n",
      "\u001b[33m[2023-03-08 07:24:16.341 ip-10-0-232-70.ec2.internal:7 INFO utils.py:28] RULE_JOB_STOP_SIGNAL_FILENAME: None\u001b[0m\n",
      "\u001b[33m[2023-03-08 07:24:16.400 ip-10-0-232-70.ec2.internal:7 INFO profiler_config_parser.py:111] User has disabled profiler.\u001b[0m\n",
      "\u001b[33m[2023-03-08:07:24:16:INFO] Imported framework sagemaker_xgboost_container.training\u001b[0m\n",
      "\u001b[33m[2023-03-08:07:24:16:INFO] Failed to parse hyperparameter objective value reg:squarederror to Json.\u001b[0m\n",
      "\u001b[33mReturning the value itself\u001b[0m\n",
      "\u001b[33m[2023-03-08:07:24:16:INFO] No GPUs detected (normal if no gpus installed)\u001b[0m\n",
      "\u001b[33m[2023-03-08:07:24:16:INFO] Running XGBoost Sagemaker in algorithm mode\u001b[0m\n",
      "\u001b[33m[2023-03-08:07:24:16:INFO] Determined 0 GPU(s) available on the instance.\u001b[0m\n",
      "\u001b[33m[2023-03-08:07:24:16:INFO] files path: /opt/ml/input/data/train/01\u001b[0m\n",
      "\u001b[35m[2023-03-08 07:24:15.536 ip-10-0-249-49.ec2.internal:7 INFO utils.py:28] RULE_JOB_STOP_SIGNAL_FILENAME: None\u001b[0m\n",
      "\u001b[35m[2023-03-08 07:24:15.594 ip-10-0-249-49.ec2.internal:7 INFO profiler_config_parser.py:111] User has disabled profiler.\u001b[0m\n",
      "\u001b[35m[2023-03-08:07:24:15:INFO] Imported framework sagemaker_xgboost_container.training\u001b[0m\n",
      "\u001b[35m[2023-03-08:07:24:15:INFO] Failed to parse hyperparameter objective value reg:squarederror to Json.\u001b[0m\n",
      "\u001b[35mReturning the value itself\u001b[0m\n",
      "\u001b[35m[2023-03-08:07:24:15:INFO] No GPUs detected (normal if no gpus installed)\u001b[0m\n",
      "\u001b[35m[2023-03-08:07:24:15:INFO] Running XGBoost Sagemaker in algorithm mode\u001b[0m\n",
      "\u001b[35m[2023-03-08:07:24:15:INFO] Determined 0 GPU(s) available on the instance.\u001b[0m\n",
      "\u001b[35m[2023-03-08:07:24:15:INFO] files path: /opt/ml/input/data/train/01\u001b[0m\n",
      "\u001b[36m[2023-03-08 07:24:15.350 ip-10-0-226-101.ec2.internal:7 INFO utils.py:28] RULE_JOB_STOP_SIGNAL_FILENAME: None\u001b[0m\n",
      "\u001b[36m[2023-03-08 07:24:15.410 ip-10-0-226-101.ec2.internal:7 INFO profiler_config_parser.py:111] User has disabled profiler.\u001b[0m\n",
      "\u001b[36m[2023-03-08:07:24:15:INFO] Imported framework sagemaker_xgboost_container.training\u001b[0m\n",
      "\u001b[36m[2023-03-08:07:24:15:INFO] Failed to parse hyperparameter objective value reg:squarederror to Json.\u001b[0m\n",
      "\u001b[36mReturning the value itself\u001b[0m\n",
      "\u001b[36m[2023-03-08:07:24:15:INFO] No GPUs detected (normal if no gpus installed)\u001b[0m\n",
      "\u001b[36m[2023-03-08:07:24:15:INFO] Running XGBoost Sagemaker in algorithm mode\u001b[0m\n",
      "\u001b[36m[2023-03-08:07:24:15:INFO] Determined 0 GPU(s) available on the instance.\u001b[0m\n",
      "\u001b[36m[2023-03-08:07:24:15:INFO] files path: /opt/ml/input/data/train/01\u001b[0m\n",
      "\u001b[34m[2023-03-08 07:24:17.073 ip-10-0-245-243.ec2.internal:7 INFO utils.py:28] RULE_JOB_STOP_SIGNAL_FILENAME: None\u001b[0m\n",
      "\u001b[34m[2023-03-08 07:24:17.130 ip-10-0-245-243.ec2.internal:7 INFO profiler_config_parser.py:111] User has disabled profiler.\u001b[0m\n",
      "\u001b[34m[2023-03-08:07:24:17:INFO] Imported framework sagemaker_xgboost_container.training\u001b[0m\n",
      "\u001b[34m[2023-03-08:07:24:17:INFO] Failed to parse hyperparameter objective value reg:squarederror to Json.\u001b[0m\n",
      "\u001b[34mReturning the value itself\u001b[0m\n",
      "\u001b[34m[2023-03-08:07:24:17:INFO] No GPUs detected (normal if no gpus installed)\u001b[0m\n",
      "\u001b[34m[2023-03-08:07:24:17:INFO] Running XGBoost Sagemaker in algorithm mode\u001b[0m\n",
      "\u001b[34m[2023-03-08:07:24:17:INFO] Determined 0 GPU(s) available on the instance.\u001b[0m\n",
      "\u001b[34m[2023-03-08:07:24:17:INFO] files path: /opt/ml/input/data/train/01\u001b[0m\n",
      "\u001b[34m[2023-03-08 07:24:18.979 ip-10-0-232-19.ec2.internal:7 INFO utils.py:28] RULE_JOB_STOP_SIGNAL_FILENAME: None\u001b[0m\n",
      "\u001b[34m[2023-03-08 07:24:19.038 ip-10-0-232-19.ec2.internal:7 INFO profiler_config_parser.py:111] User has disabled profiler.\u001b[0m\n",
      "\u001b[34m[2023-03-08:07:24:19:INFO] Imported framework sagemaker_xgboost_container.training\u001b[0m\n",
      "\u001b[34m[2023-03-08:07:24:19:INFO] Failed to parse hyperparameter objective value reg:squarederror to Json.\u001b[0m\n",
      "\u001b[34mReturning the value itself\u001b[0m\n",
      "\u001b[34m[2023-03-08:07:24:19:INFO] No GPUs detected (normal if no gpus installed)\u001b[0m\n",
      "\u001b[34m[2023-03-08:07:24:19:INFO] Running XGBoost Sagemaker in algorithm mode\u001b[0m\n",
      "\u001b[34m[2023-03-08:07:24:19:INFO] Determined 0 GPU(s) available on the instance.\u001b[0m\n",
      "\u001b[34m[2023-03-08:07:24:19:INFO] files path: /opt/ml/input/data/train/01\u001b[0m\n",
      "\u001b[32m[2023-03-08:07:24:36:INFO] Distributed node training with 6 hosts: ['algo-1', 'algo-2', 'algo-3', 'algo-4', 'algo-5', 'algo-6']\u001b[0m\n",
      "\u001b[32m[2023-03-08:07:24:36:INFO] Failed to connect to RabitTracker on attempt 0\u001b[0m\n",
      "\u001b[32m[2023-03-08:07:24:36:INFO] Sleeping for 3 sec before retrying\u001b[0m\n",
      "\u001b[32m[2023-03-08:07:24:39:INFO] Failed to connect to RabitTracker on attempt 1\u001b[0m\n",
      "\u001b[32m[2023-03-08:07:24:39:INFO] Sleeping for 3 sec before retrying\u001b[0m\n",
      "\u001b[35m[2023-03-08:07:24:40:INFO] Distributed node training with 6 hosts: ['algo-1', 'algo-2', 'algo-3', 'algo-4', 'algo-5', 'algo-6']\u001b[0m\n",
      "\u001b[35m[2023-03-08:07:24:40:INFO] Failed to connect to RabitTracker on attempt 0\u001b[0m\n",
      "\u001b[35m[2023-03-08:07:24:40:INFO] Sleeping for 3 sec before retrying\u001b[0m\n",
      "\u001b[36m[2023-03-08:07:24:40:INFO] Distributed node training with 6 hosts: ['algo-1', 'algo-2', 'algo-3', 'algo-4', 'algo-5', 'algo-6']\u001b[0m\n",
      "\u001b[36m[2023-03-08:07:24:40:INFO] Failed to connect to RabitTracker on attempt 0\u001b[0m\n",
      "\u001b[36m[2023-03-08:07:24:40:INFO] Sleeping for 3 sec before retrying\u001b[0m\n",
      "\u001b[33m[2023-03-08:07:24:41:INFO] Distributed node training with 6 hosts: ['algo-1', 'algo-2', 'algo-3', 'algo-4', 'algo-5', 'algo-6']\u001b[0m\n",
      "\u001b[33m[2023-03-08:07:24:41:INFO] Failed to connect to RabitTracker on attempt 0\u001b[0m\n",
      "\u001b[33m[2023-03-08:07:24:41:INFO] Sleeping for 3 sec before retrying\u001b[0m\n",
      "\u001b[34m[2023-03-08:07:24:42:INFO] Distributed node training with 6 hosts: ['algo-1', 'algo-2', 'algo-3', 'algo-4', 'algo-5', 'algo-6']\u001b[0m\n",
      "\u001b[34m[2023-03-08:07:24:42:INFO] Failed to connect to RabitTracker on attempt 0\u001b[0m\n",
      "\u001b[34m[2023-03-08:07:24:42:INFO] Sleeping for 3 sec before retrying\u001b[0m\n",
      "\u001b[32m[2023-03-08:07:24:42:INFO] Failed to connect to RabitTracker on attempt 2\u001b[0m\n",
      "\u001b[32m[2023-03-08:07:24:42:INFO] Sleeping for 3 sec before retrying\u001b[0m\n",
      "\u001b[35m[2023-03-08:07:24:43:INFO] Failed to connect to RabitTracker on attempt 1\u001b[0m\n",
      "\u001b[35m[2023-03-08:07:24:43:INFO] Sleeping for 3 sec before retrying\u001b[0m\n",
      "\u001b[36m[2023-03-08:07:24:43:INFO] Failed to connect to RabitTracker on attempt 1\u001b[0m\n",
      "\u001b[36m[2023-03-08:07:24:43:INFO] Sleeping for 3 sec before retrying\u001b[0m\n",
      "\u001b[34m[2023-03-08:07:24:44:INFO] Distributed node training with 6 hosts: ['algo-1', 'algo-2', 'algo-3', 'algo-4', 'algo-5', 'algo-6']\u001b[0m\n",
      "\u001b[34m[2023-03-08:07:24:44:INFO] start listen on algo-1:9099\u001b[0m\n",
      "\u001b[34m[2023-03-08:07:24:44:INFO] Rabit slave environment: {'DMLC_TRACKER_URI': 'algo-1', 'DMLC_TRACKER_PORT': 9099}\u001b[0m\n",
      "\u001b[34m[2023-03-08:07:24:44:INFO] Connected to RabitTracker.\u001b[0m\n",
      "\u001b[34m[2023-03-08:07:24:44:INFO] No data received from connection ('10.0.232.19', 57446). Closing.\u001b[0m\n",
      "\u001b[33m[2023-03-08:07:24:44:INFO] Connected to RabitTracker.\u001b[0m\n",
      "\u001b[34m[2023-03-08:07:24:44:INFO] No data received from connection ('10.0.232.70', 44368). Closing.\u001b[0m\n",
      "\u001b[34m[2023-03-08:07:24:45:INFO] No data received from connection ('10.0.204.145', 47188). Closing.\u001b[0m\n",
      "\u001b[34m[2023-03-08:07:24:45:INFO] No data received from connection ('10.0.245.243', 59154). Closing.\u001b[0m\n",
      "\u001b[34m[2023-03-08:07:24:45:INFO] Connected to RabitTracker.\u001b[0m\n",
      "\u001b[32m[2023-03-08:07:24:45:INFO] Connected to RabitTracker.\u001b[0m\n",
      "\u001b[33m[07:24:47] task NULL got new rank 3\u001b[0m\n",
      "\u001b[35m[2023-03-08:07:24:46:INFO] Connected to RabitTracker.\u001b[0m\n",
      "\u001b[35m[07:24:47] task NULL got new rank 5\u001b[0m\n",
      "\u001b[36m[2023-03-08:07:24:46:INFO] Connected to RabitTracker.\u001b[0m\n",
      "\u001b[36m[07:24:47] task NULL got new rank 1\u001b[0m\n",
      "\u001b[34m[2023-03-08:07:24:46:INFO] No data received from connection ('10.0.249.49', 39366). Closing.\u001b[0m\n",
      "\u001b[34m[2023-03-08:07:24:46:INFO] No data received from connection ('10.0.226.101', 44130). Closing.\u001b[0m\n",
      "\u001b[34m[2023-03-08:07:24:47:INFO] Recieve start signal from 10.0.204.145; assign rank 0\u001b[0m\n",
      "\u001b[34m[2023-03-08:07:24:47:INFO] Recieve start signal from 10.0.226.101; assign rank 1\u001b[0m\n",
      "\u001b[34m[07:24:47] task NULL got new rank 2\u001b[0m\n",
      "\u001b[34m[2023-03-08:07:24:47:INFO] Recieve start signal from 10.0.232.19; assign rank 2\u001b[0m\n",
      "\u001b[34m[2023-03-08:07:24:47:INFO] Recieve start signal from 10.0.232.70; assign rank 3\u001b[0m\n",
      "\u001b[34m[2023-03-08:07:24:47:INFO] Recieve start signal from 10.0.245.243; assign rank 4\u001b[0m\n",
      "\u001b[34m[2023-03-08:07:24:47:INFO] Recieve start signal from 10.0.249.49; assign rank 5\u001b[0m\n",
      "\u001b[34m[2023-03-08:07:24:47:INFO] @tracker All of 6 nodes getting started\u001b[0m\n",
      "\u001b[34m[07:24:47] task NULL got new rank 4\u001b[0m\n",
      "\u001b[34m[2023-03-08:07:24:47:INFO] Failed to connect to RabitTracker on attempt 0\u001b[0m\n",
      "\u001b[34m[2023-03-08:07:24:47:INFO] Sleeping for 3 sec before retrying\u001b[0m\n",
      "\u001b[32m[07:24:46] task NULL got new rank 0\u001b[0m\n",
      "\u001b[32m[2023-03-08:07:24:47:INFO] Failed to connect to RabitTracker on attempt 0\u001b[0m\n",
      "\u001b[32m[2023-03-08:07:24:47:INFO] Sleeping for 3 sec before retrying\u001b[0m\n",
      "\u001b[33m[2023-03-08:07:24:47:INFO] Failed to connect to RabitTracker on attempt 0\u001b[0m\n",
      "\u001b[33m[2023-03-08:07:24:47:INFO] Sleeping for 3 sec before retrying\u001b[0m\n",
      "\u001b[35m[2023-03-08:07:24:47:INFO] Failed to connect to RabitTracker on attempt 0\u001b[0m\n",
      "\u001b[35m[2023-03-08:07:24:47:INFO] Sleeping for 3 sec before retrying\u001b[0m\n",
      "\u001b[36m[2023-03-08:07:24:47:INFO] Failed to connect to RabitTracker on attempt 0\u001b[0m\n",
      "\u001b[36m[2023-03-08:07:24:47:INFO] Sleeping for 3 sec before retrying\u001b[0m\n",
      "\u001b[34m[2023-03-08:07:24:47:INFO] @tracker All nodes finishes job\u001b[0m\n",
      "\u001b[34m[2023-03-08:07:24:47:INFO] @tracker 0.13440155982971191 secs between node start and job finish\u001b[0m\n",
      "\u001b[34m[2023-03-08:07:24:47:INFO] start listen on algo-1:9100\u001b[0m\n",
      "\u001b[34m[2023-03-08:07:24:47:INFO] Rabit slave environment: {'DMLC_TRACKER_URI': 'algo-1', 'DMLC_TRACKER_PORT': 9100}\u001b[0m\n",
      "\u001b[34m[2023-03-08:07:24:47:INFO] Connected to RabitTracker.\u001b[0m\n",
      "\u001b[34m[2023-03-08:07:24:47:INFO] No data received from connection ('10.0.232.19', 57202). Closing.\u001b[0m\n",
      "\u001b[34m[2023-03-08:07:24:50:INFO] Connected to RabitTracker.\u001b[0m\n",
      "\u001b[32m[2023-03-08:07:24:50:INFO] Connected to RabitTracker.\u001b[0m\n",
      "\u001b[32m[07:24:50] task NULL got new rank 0\u001b[0m\n",
      "\u001b[33m[2023-03-08:07:24:50:INFO] Connected to RabitTracker.\u001b[0m\n",
      "\u001b[33m[07:24:50] task NULL got new rank 3\u001b[0m\n",
      "\u001b[33m[2023-03-08:07:24:51:INFO] Train matrix has 173767590 rows and 11 columns\u001b[0m\n",
      "\u001b[33m[2023-03-08 07:24:51.092 ip-10-0-232-70.ec2.internal:7 INFO json_config.py:92] Creating hook from json_config at /opt/ml/input/config/debughookconfig.json.\u001b[0m\n",
      "\u001b[33m[2023-03-08 07:24:51.093 ip-10-0-232-70.ec2.internal:7 INFO hook.py:206] tensorboard_dir has not been set for the hook. SMDebug will not be exporting tensorboard summaries.\u001b[0m\n",
      "\u001b[33m[2023-03-08 07:24:51.093 ip-10-0-232-70.ec2.internal:7 INFO hook.py:259] Saving to /opt/ml/output/tensors\u001b[0m\n",
      "\u001b[33m[2023-03-08 07:24:51.094 ip-10-0-232-70.ec2.internal:7 INFO state_store.py:77] The checkpoint config file /opt/ml/input/config/checkpointconfig.json does not exist.\u001b[0m\n",
      "\u001b[33m[2023-03-08:07:24:51:INFO] Debug hook created from config\u001b[0m\n",
      "\u001b[35m[2023-03-08:07:24:50:INFO] Connected to RabitTracker.\u001b[0m\n",
      "\u001b[35m[07:24:51] task NULL got new rank 5\u001b[0m\n",
      "\u001b[35m[2023-03-08:07:24:51:INFO] Train matrix has 176943097 rows and 11 columns\u001b[0m\n",
      "\u001b[35m[2023-03-08 07:24:51.179 ip-10-0-249-49.ec2.internal:7 INFO json_config.py:92] Creating hook from json_config at /opt/ml/input/config/debughookconfig.json.\u001b[0m\n",
      "\u001b[35m[2023-03-08 07:24:51.179 ip-10-0-249-49.ec2.internal:7 INFO hook.py:206] tensorboard_dir has not been set for the hook. SMDebug will not be exporting tensorboard summaries.\u001b[0m\n",
      "\u001b[35m[2023-03-08 07:24:51.180 ip-10-0-249-49.ec2.internal:7 INFO hook.py:259] Saving to /opt/ml/output/tensors\u001b[0m\n",
      "\u001b[35m[2023-03-08 07:24:51.180 ip-10-0-249-49.ec2.internal:7 INFO state_store.py:77] The checkpoint config file /opt/ml/input/config/checkpointconfig.json does not exist.\u001b[0m\n",
      "\u001b[35m[2023-03-08:07:24:51:INFO] Debug hook created from config\u001b[0m\n",
      "\u001b[36m[2023-03-08:07:24:50:INFO] Connected to RabitTracker.\u001b[0m\n",
      "\u001b[36m[07:24:50] task NULL got new rank 1\u001b[0m\n",
      "\u001b[36m[2023-03-08:07:24:51:INFO] Train matrix has 175586441 rows and 11 columns\u001b[0m\n",
      "\u001b[36m[2023-03-08 07:24:51.002 ip-10-0-226-101.ec2.internal:7 INFO json_config.py:92] Creating hook from json_config at /opt/ml/input/config/debughookconfig.json.\u001b[0m\n",
      "\u001b[36m[2023-03-08 07:24:51.003 ip-10-0-226-101.ec2.internal:7 INFO hook.py:206] tensorboard_dir has not been set for the hook. SMDebug will not be exporting tensorboard summaries.\u001b[0m\n",
      "\u001b[36m[2023-03-08 07:24:51.004 ip-10-0-226-101.ec2.internal:7 INFO hook.py:259] Saving to /opt/ml/output/tensors\u001b[0m\n",
      "\u001b[36m[2023-03-08 07:24:51.004 ip-10-0-226-101.ec2.internal:7 INFO state_store.py:77] The checkpoint config file /opt/ml/input/config/checkpointconfig.json does not exist.\u001b[0m\n",
      "\u001b[36m[2023-03-08:07:24:51:INFO] Debug hook created from config\u001b[0m\n",
      "\u001b[34m[2023-03-08:07:24:50:INFO] No data received from connection ('10.0.226.101', 33400). Closing.\u001b[0m\n",
      "\u001b[34m[2023-03-08:07:24:50:INFO] No data received from connection ('10.0.232.70', 37550). Closing.\u001b[0m\n",
      "\u001b[34m[2023-03-08:07:24:50:INFO] No data received from connection ('10.0.204.145', 35346). Closing.\u001b[0m\n",
      "\u001b[34m[2023-03-08:07:24:50:INFO] No data received from connection ('10.0.245.243', 56006). Closing.\u001b[0m\n",
      "\u001b[34m[2023-03-08:07:24:50:INFO] No data received from connection ('10.0.249.49', 51038). Closing.\u001b[0m\n",
      "\u001b[34m[2023-03-08:07:24:50:INFO] Recieve start signal from 10.0.204.145; assign rank 0\u001b[0m\n",
      "\u001b[34m[2023-03-08:07:24:50:INFO] Recieve start signal from 10.0.226.101; assign rank 1\u001b[0m\n",
      "\u001b[34m[07:24:50] task NULL got new rank 2\u001b[0m\n",
      "\u001b[34m[2023-03-08:07:24:50:INFO] Recieve start signal from 10.0.232.19; assign rank 2\u001b[0m\n",
      "\u001b[34m[2023-03-08:07:24:51:INFO] Recieve start signal from 10.0.232.70; assign rank 3\u001b[0m\n",
      "\u001b[34m[2023-03-08:07:24:51:INFO] Train matrix has 176997254 rows and 11 columns\u001b[0m\n",
      "\u001b[34m[2023-03-08 07:24:51.002 ip-10-0-232-19.ec2.internal:7 INFO json_config.py:92] Creating hook from json_config at /opt/ml/input/config/debughookconfig.json.\u001b[0m\n",
      "\u001b[34m[2023-03-08 07:24:51.003 ip-10-0-232-19.ec2.internal:7 INFO hook.py:206] tensorboard_dir has not been set for the hook. SMDebug will not be exporting tensorboard summaries.\u001b[0m\n",
      "\u001b[34m[2023-03-08 07:24:51.003 ip-10-0-232-19.ec2.internal:7 INFO hook.py:259] Saving to /opt/ml/output/tensors\u001b[0m\n",
      "\u001b[34m[2023-03-08 07:24:51.004 ip-10-0-232-19.ec2.internal:7 INFO state_store.py:77] The checkpoint config file /opt/ml/input/config/checkpointconfig.json does not exist.\u001b[0m\n",
      "\u001b[34m[2023-03-08:07:24:51:INFO] Debug hook created from config\u001b[0m\n",
      "\u001b[34m[2023-03-08:07:24:51:INFO] Recieve start signal from 10.0.245.243; assign rank 4\u001b[0m\n",
      "\u001b[34m[2023-03-08:07:24:51:INFO] Recieve start signal from 10.0.249.49; assign rank 5\u001b[0m\n",
      "\u001b[34m[2023-03-08:07:24:51:INFO] @tracker All of 6 nodes getting started\u001b[0m\n",
      "\u001b[34m[07:24:51] task NULL got new rank 4\u001b[0m\n",
      "\u001b[34m[2023-03-08:07:24:51:INFO] Train matrix has 173553701 rows and 11 columns\u001b[0m\n",
      "\u001b[34m[2023-03-08 07:24:51.179 ip-10-0-245-243.ec2.internal:7 INFO json_config.py:92] Creating hook from json_config at /opt/ml/input/config/debughookconfig.json.\u001b[0m\n",
      "\u001b[34m[2023-03-08 07:24:51.179 ip-10-0-245-243.ec2.internal:7 INFO hook.py:206] tensorboard_dir has not been set for the hook. SMDebug will not be exporting tensorboard summaries.\u001b[0m\n",
      "\u001b[34m[2023-03-08 07:24:51.180 ip-10-0-245-243.ec2.internal:7 INFO hook.py:259] Saving to /opt/ml/output/tensors\u001b[0m\n",
      "\u001b[34m[2023-03-08 07:24:51.181 ip-10-0-245-243.ec2.internal:7 INFO state_store.py:77] The checkpoint config file /opt/ml/input/config/checkpointconfig.json does not exist.\u001b[0m\n",
      "\u001b[34m[2023-03-08:07:24:51:INFO] Debug hook created from config\u001b[0m\n",
      "\u001b[32m[2023-03-08:07:24:51:INFO] Train matrix has 177190682 rows and 11 columns\u001b[0m\n",
      "\u001b[32m[2023-03-08 07:24:51.178 ip-10-0-204-145.ec2.internal:7 INFO json_config.py:92] Creating hook from json_config at /opt/ml/input/config/debughookconfig.json.\u001b[0m\n",
      "\u001b[32m[2023-03-08 07:24:51.179 ip-10-0-204-145.ec2.internal:7 INFO hook.py:206] tensorboard_dir has not been set for the hook. SMDebug will not be exporting tensorboard summaries.\u001b[0m\n",
      "\u001b[32m[2023-03-08 07:24:51.180 ip-10-0-204-145.ec2.internal:7 INFO hook.py:259] Saving to /opt/ml/output/tensors\u001b[0m\n",
      "\u001b[32m[2023-03-08 07:24:51.180 ip-10-0-204-145.ec2.internal:7 INFO state_store.py:77] The checkpoint config file /opt/ml/input/config/checkpointconfig.json does not exist.\u001b[0m\n",
      "\u001b[32m[2023-03-08:07:24:51:INFO] Debug hook created from config\u001b[0m\n",
      "\u001b[33m[2023-03-08 07:26:32.932 ip-10-0-232-70.ec2.internal:7 INFO hook.py:427] Monitoring the collections: metrics\u001b[0m\n",
      "\u001b[35m[2023-03-08 07:26:32.932 ip-10-0-249-49.ec2.internal:7 INFO hook.py:427] Monitoring the collections: metrics\u001b[0m\n",
      "\u001b[36m[2023-03-08 07:26:32.932 ip-10-0-226-101.ec2.internal:7 INFO hook.py:427] Monitoring the collections: metrics\u001b[0m\n",
      "\u001b[34m[2023-03-08 07:26:32.933 ip-10-0-245-243.ec2.internal:7 INFO hook.py:427] Monitoring the collections: metrics\u001b[0m\n",
      "\u001b[32m[2023-03-08 07:26:32.935 ip-10-0-204-145.ec2.internal:7 INFO hook.py:427] Monitoring the collections: metrics\u001b[0m\n",
      "\u001b[34m[2023-03-08 07:26:32.932 ip-10-0-232-19.ec2.internal:7 INFO hook.py:427] Monitoring the collections: metrics\u001b[0m\n",
      "\u001b[34m[2023-03-08:07:26:32:INFO] [0]#011train-rmse:174.50902\u001b[0m\n"
     ]
    }
   ],
   "source": [
    "import time\n",
    "import sagemaker\n",
    "\n",
    "# m5.24xlarge (6 incl leader node) - 12.85 minutes\n",
    "training_job_results = estimator.fit({\"train\": train_input})\n",
    "print(training_job_results)"
   ]
  },
  {
   "cell_type": "code",
   "execution_count": null,
   "metadata": {},
   "outputs": [],
   "source": []
  }
 ],
 "metadata": {
  "availableInstances": [
   {
    "_defaultOrder": 0,
    "_isFastLaunch": true,
    "category": "General purpose",
    "gpuNum": 0,
    "memoryGiB": 4,
    "name": "ml.t3.medium",
    "vcpuNum": 2
   },
   {
    "_defaultOrder": 1,
    "_isFastLaunch": false,
    "category": "General purpose",
    "gpuNum": 0,
    "memoryGiB": 8,
    "name": "ml.t3.large",
    "vcpuNum": 2
   },
   {
    "_defaultOrder": 2,
    "_isFastLaunch": false,
    "category": "General purpose",
    "gpuNum": 0,
    "memoryGiB": 16,
    "name": "ml.t3.xlarge",
    "vcpuNum": 4
   },
   {
    "_defaultOrder": 3,
    "_isFastLaunch": false,
    "category": "General purpose",
    "gpuNum": 0,
    "memoryGiB": 32,
    "name": "ml.t3.2xlarge",
    "vcpuNum": 8
   },
   {
    "_defaultOrder": 4,
    "_isFastLaunch": true,
    "category": "General purpose",
    "gpuNum": 0,
    "memoryGiB": 8,
    "name": "ml.m5.large",
    "vcpuNum": 2
   },
   {
    "_defaultOrder": 5,
    "_isFastLaunch": false,
    "category": "General purpose",
    "gpuNum": 0,
    "memoryGiB": 16,
    "name": "ml.m5.xlarge",
    "vcpuNum": 4
   },
   {
    "_defaultOrder": 6,
    "_isFastLaunch": false,
    "category": "General purpose",
    "gpuNum": 0,
    "memoryGiB": 32,
    "name": "ml.m5.2xlarge",
    "vcpuNum": 8
   },
   {
    "_defaultOrder": 7,
    "_isFastLaunch": false,
    "category": "General purpose",
    "gpuNum": 0,
    "memoryGiB": 64,
    "name": "ml.m5.4xlarge",
    "vcpuNum": 16
   },
   {
    "_defaultOrder": 8,
    "_isFastLaunch": false,
    "category": "General purpose",
    "gpuNum": 0,
    "memoryGiB": 128,
    "name": "ml.m5.8xlarge",
    "vcpuNum": 32
   },
   {
    "_defaultOrder": 9,
    "_isFastLaunch": false,
    "category": "General purpose",
    "gpuNum": 0,
    "memoryGiB": 192,
    "name": "ml.m5.12xlarge",
    "vcpuNum": 48
   },
   {
    "_defaultOrder": 10,
    "_isFastLaunch": false,
    "category": "General purpose",
    "gpuNum": 0,
    "memoryGiB": 256,
    "name": "ml.m5.16xlarge",
    "vcpuNum": 64
   },
   {
    "_defaultOrder": 11,
    "_isFastLaunch": false,
    "category": "General purpose",
    "gpuNum": 0,
    "memoryGiB": 384,
    "name": "ml.m5.24xlarge",
    "vcpuNum": 96
   },
   {
    "_defaultOrder": 12,
    "_isFastLaunch": false,
    "category": "General purpose",
    "gpuNum": 0,
    "memoryGiB": 8,
    "name": "ml.m5d.large",
    "vcpuNum": 2
   },
   {
    "_defaultOrder": 13,
    "_isFastLaunch": false,
    "category": "General purpose",
    "gpuNum": 0,
    "memoryGiB": 16,
    "name": "ml.m5d.xlarge",
    "vcpuNum": 4
   },
   {
    "_defaultOrder": 14,
    "_isFastLaunch": false,
    "category": "General purpose",
    "gpuNum": 0,
    "memoryGiB": 32,
    "name": "ml.m5d.2xlarge",
    "vcpuNum": 8
   },
   {
    "_defaultOrder": 15,
    "_isFastLaunch": false,
    "category": "General purpose",
    "gpuNum": 0,
    "memoryGiB": 64,
    "name": "ml.m5d.4xlarge",
    "vcpuNum": 16
   },
   {
    "_defaultOrder": 16,
    "_isFastLaunch": false,
    "category": "General purpose",
    "gpuNum": 0,
    "memoryGiB": 128,
    "name": "ml.m5d.8xlarge",
    "vcpuNum": 32
   },
   {
    "_defaultOrder": 17,
    "_isFastLaunch": false,
    "category": "General purpose",
    "gpuNum": 0,
    "memoryGiB": 192,
    "name": "ml.m5d.12xlarge",
    "vcpuNum": 48
   },
   {
    "_defaultOrder": 18,
    "_isFastLaunch": false,
    "category": "General purpose",
    "gpuNum": 0,
    "memoryGiB": 256,
    "name": "ml.m5d.16xlarge",
    "vcpuNum": 64
   },
   {
    "_defaultOrder": 19,
    "_isFastLaunch": false,
    "category": "General purpose",
    "gpuNum": 0,
    "memoryGiB": 384,
    "name": "ml.m5d.24xlarge",
    "vcpuNum": 96
   },
   {
    "_defaultOrder": 20,
    "_isFastLaunch": true,
    "category": "Compute optimized",
    "gpuNum": 0,
    "memoryGiB": 4,
    "name": "ml.c5.large",
    "vcpuNum": 2
   },
   {
    "_defaultOrder": 21,
    "_isFastLaunch": false,
    "category": "Compute optimized",
    "gpuNum": 0,
    "memoryGiB": 8,
    "name": "ml.c5.xlarge",
    "vcpuNum": 4
   },
   {
    "_defaultOrder": 22,
    "_isFastLaunch": false,
    "category": "Compute optimized",
    "gpuNum": 0,
    "memoryGiB": 16,
    "name": "ml.c5.2xlarge",
    "vcpuNum": 8
   },
   {
    "_defaultOrder": 23,
    "_isFastLaunch": false,
    "category": "Compute optimized",
    "gpuNum": 0,
    "memoryGiB": 32,
    "name": "ml.c5.4xlarge",
    "vcpuNum": 16
   },
   {
    "_defaultOrder": 24,
    "_isFastLaunch": false,
    "category": "Compute optimized",
    "gpuNum": 0,
    "memoryGiB": 72,
    "name": "ml.c5.9xlarge",
    "vcpuNum": 36
   },
   {
    "_defaultOrder": 25,
    "_isFastLaunch": false,
    "category": "Compute optimized",
    "gpuNum": 0,
    "memoryGiB": 96,
    "name": "ml.c5.12xlarge",
    "vcpuNum": 48
   },
   {
    "_defaultOrder": 26,
    "_isFastLaunch": false,
    "category": "Compute optimized",
    "gpuNum": 0,
    "memoryGiB": 144,
    "name": "ml.c5.18xlarge",
    "vcpuNum": 72
   },
   {
    "_defaultOrder": 27,
    "_isFastLaunch": false,
    "category": "Compute optimized",
    "gpuNum": 0,
    "memoryGiB": 192,
    "name": "ml.c5.24xlarge",
    "vcpuNum": 96
   },
   {
    "_defaultOrder": 28,
    "_isFastLaunch": true,
    "category": "Accelerated computing",
    "gpuNum": 1,
    "memoryGiB": 16,
    "name": "ml.g4dn.xlarge",
    "vcpuNum": 4
   },
   {
    "_defaultOrder": 29,
    "_isFastLaunch": false,
    "category": "Accelerated computing",
    "gpuNum": 1,
    "memoryGiB": 32,
    "name": "ml.g4dn.2xlarge",
    "vcpuNum": 8
   },
   {
    "_defaultOrder": 30,
    "_isFastLaunch": false,
    "category": "Accelerated computing",
    "gpuNum": 1,
    "memoryGiB": 64,
    "name": "ml.g4dn.4xlarge",
    "vcpuNum": 16
   },
   {
    "_defaultOrder": 31,
    "_isFastLaunch": false,
    "category": "Accelerated computing",
    "gpuNum": 1,
    "memoryGiB": 128,
    "name": "ml.g4dn.8xlarge",
    "vcpuNum": 32
   },
   {
    "_defaultOrder": 32,
    "_isFastLaunch": false,
    "category": "Accelerated computing",
    "gpuNum": 4,
    "memoryGiB": 192,
    "name": "ml.g4dn.12xlarge",
    "vcpuNum": 48
   },
   {
    "_defaultOrder": 33,
    "_isFastLaunch": false,
    "category": "Accelerated computing",
    "gpuNum": 1,
    "memoryGiB": 256,
    "name": "ml.g4dn.16xlarge",
    "vcpuNum": 64
   },
   {
    "_defaultOrder": 34,
    "_isFastLaunch": false,
    "category": "Accelerated computing",
    "gpuNum": 1,
    "memoryGiB": 61,
    "name": "ml.p3.2xlarge",
    "vcpuNum": 8
   },
   {
    "_defaultOrder": 35,
    "_isFastLaunch": false,
    "category": "Accelerated computing",
    "gpuNum": 4,
    "memoryGiB": 244,
    "name": "ml.p3.8xlarge",
    "vcpuNum": 32
   },
   {
    "_defaultOrder": 36,
    "_isFastLaunch": false,
    "category": "Accelerated computing",
    "gpuNum": 8,
    "memoryGiB": 488,
    "name": "ml.p3.16xlarge",
    "vcpuNum": 64
   },
   {
    "_defaultOrder": 37,
    "_isFastLaunch": false,
    "category": "Accelerated computing",
    "gpuNum": 8,
    "memoryGiB": 768,
    "name": "ml.p3dn.24xlarge",
    "vcpuNum": 96
   },
   {
    "_defaultOrder": 38,
    "_isFastLaunch": false,
    "category": "Memory Optimized",
    "gpuNum": 0,
    "memoryGiB": 16,
    "name": "ml.r5.large",
    "vcpuNum": 2
   },
   {
    "_defaultOrder": 39,
    "_isFastLaunch": false,
    "category": "Memory Optimized",
    "gpuNum": 0,
    "memoryGiB": 32,
    "name": "ml.r5.xlarge",
    "vcpuNum": 4
   },
   {
    "_defaultOrder": 40,
    "_isFastLaunch": false,
    "category": "Memory Optimized",
    "gpuNum": 0,
    "memoryGiB": 64,
    "name": "ml.r5.2xlarge",
    "vcpuNum": 8
   },
   {
    "_defaultOrder": 41,
    "_isFastLaunch": false,
    "category": "Memory Optimized",
    "gpuNum": 0,
    "memoryGiB": 128,
    "name": "ml.r5.4xlarge",
    "vcpuNum": 16
   },
   {
    "_defaultOrder": 42,
    "_isFastLaunch": false,
    "category": "Memory Optimized",
    "gpuNum": 0,
    "memoryGiB": 256,
    "name": "ml.r5.8xlarge",
    "vcpuNum": 32
   },
   {
    "_defaultOrder": 43,
    "_isFastLaunch": false,
    "category": "Memory Optimized",
    "gpuNum": 0,
    "memoryGiB": 384,
    "name": "ml.r5.12xlarge",
    "vcpuNum": 48
   },
   {
    "_defaultOrder": 44,
    "_isFastLaunch": false,
    "category": "Memory Optimized",
    "gpuNum": 0,
    "memoryGiB": 512,
    "name": "ml.r5.16xlarge",
    "vcpuNum": 64
   },
   {
    "_defaultOrder": 45,
    "_isFastLaunch": false,
    "category": "Memory Optimized",
    "gpuNum": 0,
    "memoryGiB": 768,
    "name": "ml.r5.24xlarge",
    "vcpuNum": 96
   },
   {
    "_defaultOrder": 46,
    "_isFastLaunch": false,
    "category": "Accelerated computing",
    "gpuNum": 1,
    "memoryGiB": 16,
    "name": "ml.g5.xlarge",
    "vcpuNum": 4
   },
   {
    "_defaultOrder": 47,
    "_isFastLaunch": false,
    "category": "Accelerated computing",
    "gpuNum": 1,
    "memoryGiB": 32,
    "name": "ml.g5.2xlarge",
    "vcpuNum": 8
   },
   {
    "_defaultOrder": 48,
    "_isFastLaunch": false,
    "category": "Accelerated computing",
    "gpuNum": 1,
    "memoryGiB": 64,
    "name": "ml.g5.4xlarge",
    "vcpuNum": 16
   },
   {
    "_defaultOrder": 49,
    "_isFastLaunch": false,
    "category": "Accelerated computing",
    "gpuNum": 1,
    "memoryGiB": 128,
    "name": "ml.g5.8xlarge",
    "vcpuNum": 32
   },
   {
    "_defaultOrder": 50,
    "_isFastLaunch": false,
    "category": "Accelerated computing",
    "gpuNum": 1,
    "memoryGiB": 256,
    "name": "ml.g5.16xlarge",
    "vcpuNum": 64
   },
   {
    "_defaultOrder": 51,
    "_isFastLaunch": false,
    "category": "Accelerated computing",
    "gpuNum": 4,
    "memoryGiB": 192,
    "name": "ml.g5.12xlarge",
    "vcpuNum": 48
   },
   {
    "_defaultOrder": 52,
    "_isFastLaunch": false,
    "category": "Accelerated computing",
    "gpuNum": 4,
    "memoryGiB": 384,
    "name": "ml.g5.24xlarge",
    "vcpuNum": 96
   },
   {
    "_defaultOrder": 53,
    "_isFastLaunch": false,
    "category": "Accelerated computing",
    "gpuNum": 8,
    "memoryGiB": 768,
    "name": "ml.g5.48xlarge",
    "vcpuNum": 192
   }
  ],
  "instance_type": "ml.m5.2xlarge",
  "kernelspec": {
   "display_name": "Python 3 (Data Science)",
   "language": "python",
   "name": "python3__SAGEMAKER_INTERNAL__arn:aws:sagemaker:us-east-1:081325390199:image/datascience-1.0"
  },
  "language_info": {
   "codemirror_mode": {
    "name": "ipython",
    "version": 3
   },
   "file_extension": ".py",
   "mimetype": "text/x-python",
   "name": "python",
   "nbconvert_exporter": "python",
   "pygments_lexer": "ipython3",
   "version": "3.7.10"
  }
 },
 "nbformat": 4,
 "nbformat_minor": 4
}
