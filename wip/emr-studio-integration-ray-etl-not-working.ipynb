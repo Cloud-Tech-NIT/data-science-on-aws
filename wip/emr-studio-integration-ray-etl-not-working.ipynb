{
 "cells": [
  {
   "cell_type": "code",
   "execution_count": 2,
   "metadata": {},
   "outputs": [
    {
     "name": "stdout",
     "output_type": "stream",
     "text": [
      "Successfully read emr cluster(j-1UZ7AR2KJREZZ) details\n",
      "Initiating EMR connection..\n",
      "Starting Spark application\n"
     ]
    },
    {
     "data": {
      "text/html": [
       "<table>\n",
       "<tr><th>ID</th><th>YARN Application ID</th><th>Kind</th><th>State</th><th>Spark UI</th><th>Driver log</th><th>User</th><th>Current session?</th></tr><tr><td>16</td><td>application_1675488897820_0017</td><td>pyspark</td><td>idle</td><td><a target=\"_blank\" href=\"http://ip-10-0-20-177.ec2.internal:20888/proxy/application_1675488897820_0017/\">Link</a></td><td><a target=\"_blank\" href=\"http://ip-10-0-20-112.ec2.internal:8042/node/containerlogs/container_1675488897820_0017_01_000001/livy\">Link</a></td><td>None</td><td>✔</td></tr></table>"
      ],
      "text/plain": [
       "<IPython.core.display.HTML object>"
      ]
     },
     "metadata": {},
     "output_type": "display_data"
    },
    {
     "data": {
      "application/vnd.jupyter.widget-view+json": {
       "model_id": "",
       "version_major": 2,
       "version_minor": 0
      },
      "text/plain": [
       "FloatProgress(value=0.0, bar_style='info', description='Progress:', layout=Layout(height='25px', width='50%'),…"
      ]
     },
     "metadata": {},
     "output_type": "display_data"
    },
    {
     "name": "stdout",
     "output_type": "stream",
     "text": [
      "SparkSession available as 'spark'.\n",
      "{\"namespace\": \"sagemaker-analytics\", \"cluster_id\": \"j-1UZ7AR2KJREZZ\", \"error_message\": null, \"success\": true, \"service\": \"emr\", \"operation\": \"connect\"}\n"
     ]
    }
   ],
   "source": [
    "%load_ext sagemaker_studio_analytics_extension.magics\n",
    "%sm_analytics emr connect --cluster-id j-1UZ7AR2KJREZZ --auth-type None --language python  "
   ]
  },
  {
   "cell_type": "code",
   "execution_count": 3,
   "metadata": {},
   "outputs": [
    {
     "name": "stdout",
     "output_type": "stream",
     "text": [
      "Starting Spark application\n"
     ]
    },
    {
     "data": {
      "text/html": [
       "<table>\n",
       "<tr><th>ID</th><th>YARN Application ID</th><th>Kind</th><th>State</th><th>Spark UI</th><th>Driver log</th><th>User</th><th>Current session?</th></tr><tr><td>17</td><td>application_1675488897820_0018</td><td>pyspark</td><td>idle</td><td><a target=\"_blank\" href=\"http://ip-10-0-20-177.ec2.internal:20888/proxy/application_1675488897820_0018/\">Link</a></td><td><a target=\"_blank\" href=\"http://ip-10-0-20-112.ec2.internal:8042/node/containerlogs/container_1675488897820_0018_01_000001/livy\">Link</a></td><td>None</td><td>✔</td></tr></table>"
      ],
      "text/plain": [
       "<IPython.core.display.HTML object>"
      ]
     },
     "metadata": {},
     "output_type": "display_data"
    },
    {
     "data": {
      "application/vnd.jupyter.widget-view+json": {
       "model_id": "",
       "version_major": 2,
       "version_minor": 0
      },
      "text/plain": [
       "FloatProgress(value=0.0, bar_style='info', description='Progress:', layout=Layout(height='25px', width='50%'),…"
      ]
     },
     "metadata": {},
     "output_type": "display_data"
    },
    {
     "name": "stdout",
     "output_type": "stream",
     "text": [
      "SparkSession available as 'spark'.\n"
     ]
    },
    {
     "data": {
      "text/html": [
       "Current session configs: <tt>{'conf': {'spark.pyspark.python': 'python3', 'spark.pyspark.virtualenv.enabled': 'true', 'spark.pyspark.virtualenv.type': 'native', 'spark.pyspark.virtualenv.bin.path': '/usr/bin/virtualenv'}, 'kind': 'pyspark'}</tt><br>"
      ],
      "text/plain": [
       "<IPython.core.display.HTML object>"
      ]
     },
     "metadata": {},
     "output_type": "display_data"
    },
    {
     "data": {
      "text/html": [
       "<table>\n",
       "<tr><th>ID</th><th>YARN Application ID</th><th>Kind</th><th>State</th><th>Spark UI</th><th>Driver log</th><th>User</th><th>Current session?</th></tr><tr><td>15</td><td>application_1675488897820_0016</td><td>pyspark</td><td>idle</td><td><a target=\"_blank\" href=\"http://ip-10-0-20-177.ec2.internal:20888/proxy/application_1675488897820_0016/\">Link</a></td><td><a target=\"_blank\" href=\"http://ip-10-0-20-148.ec2.internal:8042/node/containerlogs/container_1675488897820_0016_01_000001/livy\">Link</a></td><td>None</td><td></td></tr><tr><td>17</td><td>application_1675488897820_0018</td><td>pyspark</td><td>idle</td><td><a target=\"_blank\" href=\"http://ip-10-0-20-177.ec2.internal:20888/proxy/application_1675488897820_0018/\">Link</a></td><td><a target=\"_blank\" href=\"http://ip-10-0-20-112.ec2.internal:8042/node/containerlogs/container_1675488897820_0018_01_000001/livy\">Link</a></td><td>None</td><td>✔</td></tr></table>"
      ],
      "text/plain": [
       "<IPython.core.display.HTML object>"
      ]
     },
     "metadata": {},
     "output_type": "display_data"
    }
   ],
   "source": [
    "%%configure -f\n",
    "{ \"conf\":{\n",
    "          \"spark.pyspark.python\": \"python3\",\n",
    "          \"spark.pyspark.virtualenv.enabled\": \"true\",\n",
    "          \"spark.pyspark.virtualenv.type\":\"native\",\n",
    "          \"spark.pyspark.virtualenv.bin.path\":\"/usr/bin/virtualenv\"\n",
    "         }\n",
    "}"
   ]
  },
  {
   "cell_type": "code",
   "execution_count": 9,
   "metadata": {},
   "outputs": [
    {
     "data": {
      "application/vnd.jupyter.widget-view+json": {
       "model_id": "",
       "version_major": 2,
       "version_minor": 0
      },
      "text/plain": [
       "FloatProgress(value=0.0, bar_style='info', description='Progress:', layout=Layout(height='25px', width='50%'),…"
      ]
     },
     "metadata": {},
     "output_type": "display_data"
    },
    {
     "name": "stdout",
     "output_type": "stream",
     "text": [
      "{'object_store_memory': 456063334807.0, 'memory': 1054147781225.0, 'node:10.0.20.69': 1.0, 'CPU': 192.0, 'node:10.0.20.146': 1.0, 'node:10.0.20.71': 1.0, 'node:10.0.20.177': 1.0, 'node:10.0.20.148': 1.0, 'node:10.0.20.112': 1.0}\n",
      "--- Logging error ---\n",
      "Traceback (most recent call last):\n",
      "  File \"/usr/lib64/python3.7/logging/__init__.py\", line 1028, in emit\n",
      "    stream.write(msg + self.terminator)\n",
      "  File \"/mnt2/yarn/usercache/livy/appcache/application_1675488897820_0018/container_1675488897820_0018_01_000001/tmp/6342885287677033901\", line 537, in write\n",
      "    super(UnicodeDecodingStringIO, self).write(s)\n",
      "ValueError: I/O operation on closed file\n",
      "Call stack:\n",
      "  File \"/mnt2/yarn/usercache/livy/appcache/application_1675488897820_0018/container_1675488897820_0018_01_000001/tmp/6342885287677033901\", line 719, in <module>\n",
      "    sys.exit(main())\n",
      "  File \"/mnt2/yarn/usercache/livy/appcache/application_1675488897820_0018/container_1675488897820_0018_01_000001/tmp/6342885287677033901\", line 691, in main\n",
      "    response = handler(content)\n",
      "  File \"/mnt2/yarn/usercache/livy/appcache/application_1675488897820_0018/container_1675488897820_0018_01_000001/tmp/6342885287677033901\", line 321, in execute_request\n",
      "    result = node.execute()\n",
      "  File \"/mnt2/yarn/usercache/livy/appcache/application_1675488897820_0018/container_1675488897820_0018_01_000001/tmp/6342885287677033901\", line 227, in execute\n",
      "    exec(code, global_dict)\n",
      "  File \"<stdin>\", line 5, in <module>\n",
      "  File \"/usr/local/lib/python3.7/site-packages/ray/_private/client_mode_hook.py\", line 105, in wrapper\n",
      "    return func(*args, **kwargs)\n",
      "  File \"/usr/local/lib/python3.7/site-packages/ray/_private/worker.py\", line 1312, in init\n",
      "    logger.info(\"Connecting to existing Ray cluster at address: %s...\", gcs_address)\n",
      "Message: 'Connecting to existing Ray cluster at address: %s...'\n",
      "Arguments: ('10.0.20.177:6379',)\n",
      "--- Logging error ---\n",
      "Traceback (most recent call last):\n",
      "  File \"/usr/lib64/python3.7/logging/__init__.py\", line 1028, in emit\n",
      "    stream.write(msg + self.terminator)\n",
      "  File \"/mnt2/yarn/usercache/livy/appcache/application_1675488897820_0018/container_1675488897820_0018_01_000001/tmp/6342885287677033901\", line 537, in write\n",
      "    super(UnicodeDecodingStringIO, self).write(s)\n",
      "ValueError: I/O operation on closed file\n",
      "Call stack:\n",
      "  File \"/mnt2/yarn/usercache/livy/appcache/application_1675488897820_0018/container_1675488897820_0018_01_000001/tmp/6342885287677033901\", line 719, in <module>\n",
      "    sys.exit(main())\n",
      "  File \"/mnt2/yarn/usercache/livy/appcache/application_1675488897820_0018/container_1675488897820_0018_01_000001/tmp/6342885287677033901\", line 691, in main\n",
      "    response = handler(content)\n",
      "  File \"/mnt2/yarn/usercache/livy/appcache/application_1675488897820_0018/container_1675488897820_0018_01_000001/tmp/6342885287677033901\", line 321, in execute_request\n",
      "    result = node.execute()\n",
      "  File \"/mnt2/yarn/usercache/livy/appcache/application_1675488897820_0018/container_1675488897820_0018_01_000001/tmp/6342885287677033901\", line 227, in execute\n",
      "    exec(code, global_dict)\n",
      "  File \"<stdin>\", line 5, in <module>\n",
      "  File \"/usr/local/lib/python3.7/site-packages/ray/_private/client_mode_hook.py\", line 105, in wrapper\n",
      "    return func(*args, **kwargs)\n",
      "  File \"/usr/local/lib/python3.7/site-packages/ray/_private/worker.py\", line 1487, in init\n",
      "    colorama.Style.NORMAL,\n",
      "Message: 'Connected to Ray cluster. View the dashboard at %s%shttp://%s%s%s.'\n",
      "Arguments: ('\\x1b[1m', '\\x1b[32m', '127.0.0.1:8265', '\\x1b[39m', '\\x1b[22m')"
     ]
    }
   ],
   "source": [
    "import ray\n",
    "import pyarrow as pa\n",
    "\n",
    "ray.shutdown()\n",
    "ray.init()"
   ]
  },
  {
   "cell_type": "code",
   "execution_count": 10,
   "metadata": {},
   "outputs": [
    {
     "data": {
      "application/vnd.jupyter.widget-view+json": {
       "model_id": "",
       "version_major": 2,
       "version_minor": 0
      },
      "text/plain": [
       "FloatProgress(value=0.0, bar_style='info', description='Progress:', layout=Layout(height='25px', width='50%'),…"
      ]
     },
     "metadata": {},
     "output_type": "display_data"
    },
    {
     "name": "stdout",
     "output_type": "stream",
     "text": [
      "{'CPU': 192.0, 'node:10.0.20.69': 1.0, 'memory': 1054147781225.0, 'object_store_memory': 456063334807.0, 'node:10.0.20.146': 1.0, 'node:10.0.20.71': 1.0, 'node:10.0.20.177': 1.0, 'node:10.0.20.148': 1.0, 'node:10.0.20.112': 1.0}"
     ]
    }
   ],
   "source": [
    "ray.cluster_resources()"
   ]
  },
  {
   "cell_type": "code",
   "execution_count": 11,
   "metadata": {},
   "outputs": [
    {
     "data": {
      "application/vnd.jupyter.widget-view+json": {
       "model_id": "",
       "version_major": 2,
       "version_minor": 0
      },
      "text/plain": [
       "FloatProgress(value=0.0, bar_style='info', description='Progress:', layout=Layout(height='25px', width='50%'),…"
      ]
     },
     "metadata": {},
     "output_type": "display_data"
    },
    {
     "name": "stdout",
     "output_type": "stream",
     "text": [
      "160796570\n",
      "Metadata Fetch Progress:   0%|          | 0/71 [00:00<?, ?it/s]\n",
      "Metadata Fetch Progress:   1%|▏         | 1/71 [00:01<01:22,  1.19s/it]\n",
      "Metadata Fetch Progress:   3%|▎         | 2/71 [00:01<00:53,  1.28it/s]\n",
      "Metadata Fetch Progress:   4%|▍         | 3/71 [00:01<00:34,  1.96it/s]\n",
      "Metadata Fetch Progress:   7%|▋         | 5/71 [00:01<00:16,  3.99it/s]\n",
      "Metadata Fetch Progress:  10%|▉         | 7/71 [00:02<00:10,  5.88it/s]\n",
      "Metadata Fetch Progress:  13%|█▎        | 9/71 [00:02<00:08,  7.74it/s]\n",
      "Metadata Fetch Progress:  15%|█▌        | 11/71 [00:02<00:10,  5.62it/s]\n",
      "Metadata Fetch Progress:  17%|█▋        | 12/71 [00:03<00:11,  5.24it/s]\n",
      "Metadata Fetch Progress:  21%|██        | 15/71 [00:03<00:07,  7.27it/s]\n",
      "Metadata Fetch Progress:  28%|██▊       | 20/71 [00:03<00:05,  9.45it/s]\n",
      "Metadata Fetch Progress:  31%|███       | 22/71 [00:03<00:04, 10.17it/s]\n",
      "Metadata Fetch Progress:  34%|███▍      | 24/71 [00:03<00:04, 10.46it/s]\n",
      "Metadata Fetch Progress:  38%|███▊      | 27/71 [00:04<00:03, 13.51it/s]\n",
      "Metadata Fetch Progress:  42%|████▏     | 30/71 [00:04<00:02, 14.73it/s]\n",
      "Metadata Fetch Progress:  48%|████▊     | 34/71 [00:04<00:02, 17.56it/s]\n",
      "Metadata Fetch Progress:  52%|█████▏    | 37/71 [00:04<00:02, 14.92it/s]\n",
      "Metadata Fetch Progress:  61%|██████    | 43/71 [00:04<00:01, 20.85it/s]\n",
      "Metadata Fetch Progress:  65%|██████▍   | 46/71 [00:04<00:01, 20.12it/s]\n",
      "Metadata Fetch Progress:  69%|██████▉   | 49/71 [00:05<00:01, 19.17it/s]\n",
      "Metadata Fetch Progress:  73%|███████▎  | 52/71 [00:05<00:00, 20.30it/s]\n",
      "Metadata Fetch Progress:  77%|███████▋  | 55/71 [00:05<00:00, 20.40it/s]\n",
      "Metadata Fetch Progress:  82%|████████▏ | 58/71 [00:05<00:00, 16.58it/s]\n",
      "Metadata Fetch Progress:  85%|████████▍ | 60/71 [00:06<00:01,  9.36it/s]\n",
      "Metadata Fetch Progress:  90%|█████████ | 64/71 [00:06<00:00, 12.97it/s]\n",
      "Metadata Fetch Progress:  96%|█████████▌| 68/71 [00:06<00:00, 16.10it/s]\n",
      "Metadata Fetch Progress: 100%|██████████| 71/71 [00:07<00:00,  9.85it/s]\n",
      "--- Logging error ---\n",
      "Traceback (most recent call last):\n",
      "  File \"/usr/lib64/python3.7/logging/__init__.py\", line 1028, in emit\n",
      "    stream.write(msg + self.terminator)\n",
      "  File \"/mnt2/yarn/usercache/livy/appcache/application_1675488897820_0018/container_1675488897820_0018_01_000001/tmp/6342885287677033901\", line 537, in write\n",
      "    super(UnicodeDecodingStringIO, self).write(s)\n",
      "ValueError: I/O operation on closed file\n",
      "Call stack:\n",
      "  File \"/mnt2/yarn/usercache/livy/appcache/application_1675488897820_0018/container_1675488897820_0018_01_000001/tmp/6342885287677033901\", line 719, in <module>\n",
      "    sys.exit(main())\n",
      "  File \"/mnt2/yarn/usercache/livy/appcache/application_1675488897820_0018/container_1675488897820_0018_01_000001/tmp/6342885287677033901\", line 691, in main\n",
      "    response = handler(content)\n",
      "  File \"/mnt2/yarn/usercache/livy/appcache/application_1675488897820_0018/container_1675488897820_0018_01_000001/tmp/6342885287677033901\", line 321, in execute_request\n",
      "    result = node.execute()\n",
      "  File \"/mnt2/yarn/usercache/livy/appcache/application_1675488897820_0018/container_1675488897820_0018_01_000001/tmp/6342885287677033901\", line 227, in execute\n",
      "    exec(code, global_dict)\n",
      "  File \"<stdin>\", line 9, in <module>\n",
      "  File \"/usr/local/lib/python3.7/site-packages/ray/data/read_api.py\", line 376, in read_parquet\n",
      "    **arrow_parquet_args,\n",
      "  File \"/usr/local/lib/python3.7/site-packages/ray/data/read_api.py\", line 281, in read_datasource\n",
      "    f\"{WARN_PREFIX} The blocks of this dataset are estimated to be {perc}x \"\n",
      "Message: '⚠️  The blocks of this dataset are estimated to be 1.8x larger than the target block size of 512 MiB. This may lead to out-of-memory errors during processing. Consider reducing the size of input files or using `.repartition(n)` to increase the number of dataset blocks.'\n",
      "Arguments: ()"
     ]
    }
   ],
   "source": [
    "def cast(t: pa.Table) -> pa.Table: # work around for large_string issue with PyArrow\n",
    "    schema = t.schema\n",
    "    field_idx = schema.get_field_index(\"review_body\")\n",
    "    field = schema.field(field_idx)\n",
    "    new_field = field.with_type(pa.large_string())\n",
    "    new_schema = schema.set(field_idx, new_field)\n",
    "    return t.cast(new_schema)\n",
    "\n",
    "ds = ray.data.read_parquet(\"s3://amazon-reviews-pds/parquet/\", _block_udf=cast)\n",
    "\n",
    "ds.count()"
   ]
  },
  {
   "cell_type": "code",
   "execution_count": 21,
   "metadata": {},
   "outputs": [],
   "source": [
    "#%%cleanup -f"
   ]
  },
  {
   "cell_type": "code",
   "execution_count": 22,
   "metadata": {},
   "outputs": [
    {
     "name": "stdout",
     "output_type": "stream",
     "text": [
      "Starting Spark application\n"
     ]
    },
    {
     "data": {
      "text/html": [
       "<table>\n",
       "<tr><th>ID</th><th>YARN Application ID</th><th>Kind</th><th>State</th><th>Spark UI</th><th>Driver log</th><th>User</th><th>Current session?</th></tr><tr><td>18</td><td>application_1675488897820_0019</td><td>pyspark</td><td>idle</td><td><a target=\"_blank\" href=\"http://ip-10-0-20-177.ec2.internal:20888/proxy/application_1675488897820_0019/\">Link</a></td><td><a target=\"_blank\" href=\"http://ip-10-0-20-148.ec2.internal:8042/node/containerlogs/container_1675488897820_0019_01_000001/livy\">Link</a></td><td>None</td><td>✔</td></tr></table>"
      ],
      "text/plain": [
       "<IPython.core.display.HTML object>"
      ]
     },
     "metadata": {},
     "output_type": "display_data"
    },
    {
     "data": {
      "application/vnd.jupyter.widget-view+json": {
       "model_id": "",
       "version_major": 2,
       "version_minor": 0
      },
      "text/plain": [
       "FloatProgress(value=0.0, bar_style='info', description='Progress:', layout=Layout(height='25px', width='50%'),…"
      ]
     },
     "metadata": {},
     "output_type": "display_data"
    },
    {
     "name": "stdout",
     "output_type": "stream",
     "text": [
      "SparkSession available as 'spark'.\n"
     ]
    },
    {
     "data": {
      "application/vnd.jupyter.widget-view+json": {
       "model_id": "",
       "version_major": 2,
       "version_minor": 0
      },
      "text/plain": [
       "FloatProgress(value=0.0, bar_style='info', description='Progress:', layout=Layout(height='25px', width='50%'),…"
      ]
     },
     "metadata": {},
     "output_type": "display_data"
    },
    {
     "name": "stdout",
     "output_type": "stream",
     "text": [
      "Collecting xgboost==1.6.2\n",
      "  Downloading xgboost-1.6.2-py3-none-manylinux2014_x86_64.whl (255.9 MB)\n",
      "Requirement already satisfied: scipy in /usr/local/lib64/python3.7/site-packages (from xgboost==1.6.2) (1.7.3)\n",
      "Requirement already satisfied: numpy in /usr/local/lib64/python3.7/site-packages (from xgboost==1.6.2) (1.21.2)\n",
      "Installing collected packages: xgboost\n",
      "Successfully installed xgboost-1.6.2\n",
      "\n",
      "Collecting xgboost_ray==0.1.10\n",
      "  Downloading xgboost_ray-0.1.10-py3-none-any.whl (137 kB)\n",
      "Requirement already satisfied: xgboost>=0.90 in ./tmp/1675494779691-0/lib64/python3.7/site-packages (from xgboost_ray==0.1.10) (1.6.2)\n",
      "Requirement already satisfied: ray>=1.10 in /usr/local/lib64/python3.7/site-packages (from xgboost_ray==0.1.10) (2.0.0rc0)\n",
      "Collecting wrapt>=1.12.1\n",
      "  Downloading wrapt-1.14.1-cp37-cp37m-manylinux_2_5_x86_64.manylinux1_x86_64.manylinux_2_17_x86_64.manylinux2014_x86_64.whl (75 kB)\n",
      "Requirement already satisfied: pandas in /usr/local/lib64/python3.7/site-packages (from xgboost_ray==0.1.10) (1.2.5)\n",
      "Requirement already satisfied: numpy>=1.16 in /usr/local/lib64/python3.7/site-packages (from xgboost_ray==0.1.10) (1.21.2)\n",
      "Requirement already satisfied: scipy in /usr/local/lib64/python3.7/site-packages (from xgboost>=0.90->xgboost_ray==0.1.10) (1.7.3)\n",
      "Requirement already satisfied: protobuf<4.0.0,>=3.15.3 in /usr/local/lib64/python3.7/site-packages (from ray>=1.10->xgboost_ray==0.1.10) (3.20.3)\n",
      "Requirement already satisfied: msgpack<2.0.0,>=1.0.0 in /usr/local/lib64/python3.7/site-packages (from ray>=1.10->xgboost_ray==0.1.10) (1.0.4)\n",
      "Requirement already satisfied: aiosignal in /usr/local/lib/python3.7/site-packages (from ray>=1.10->xgboost_ray==0.1.10) (1.3.1)\n",
      "Requirement already satisfied: frozenlist in /usr/local/lib64/python3.7/site-packages (from ray>=1.10->xgboost_ray==0.1.10) (1.3.3)\n",
      "Requirement already satisfied: jsonschema in /usr/local/lib/python3.7/site-packages (from ray>=1.10->xgboost_ray==0.1.10) (4.17.3)\n",
      "Requirement already satisfied: pyyaml in /usr/local/lib64/python3.7/site-packages (from ray>=1.10->xgboost_ray==0.1.10) (5.4.1)\n",
      "Requirement already satisfied: virtualenv in /usr/local/lib/python3.7/site-packages (from ray>=1.10->xgboost_ray==0.1.10) (20.17.1)\n",
      "Collecting click<=8.0.4,>=7.0\n",
      "  Downloading click-8.0.4-py3-none-any.whl (97 kB)\n",
      "Requirement already satisfied: filelock in /usr/local/lib/python3.7/site-packages (from ray>=1.10->xgboost_ray==0.1.10) (3.9.0)\n",
      "Requirement already satisfied: grpcio<=1.43.0,>=1.28.1 in /usr/local/lib64/python3.7/site-packages (from ray>=1.10->xgboost_ray==0.1.10) (1.43.0)\n",
      "Requirement already satisfied: requests in /usr/local/lib/python3.7/site-packages (from ray>=1.10->xgboost_ray==0.1.10) (2.26.0)\n",
      "Requirement already satisfied: typing-extensions; python_version < \"3.8\" in /usr/local/lib/python3.7/site-packages (from ray>=1.10->xgboost_ray==0.1.10) (4.4.0)\n",
      "Requirement already satisfied: attrs in /usr/local/lib/python3.7/site-packages (from ray>=1.10->xgboost_ray==0.1.10) (22.2.0)\n",
      "Requirement already satisfied: python-dateutil>=2.7.3 in /usr/local/lib/python3.7/site-packages (from pandas->xgboost_ray==0.1.10) (2.8.2)\n",
      "Requirement already satisfied: pytz>=2017.3 in /usr/local/lib/python3.7/site-packages (from pandas->xgboost_ray==0.1.10) (2022.6)\n",
      "Requirement already satisfied: pkgutil-resolve-name>=1.3.10; python_version < \"3.9\" in /usr/local/lib/python3.7/site-packages (from jsonschema->ray>=1.10->xgboost_ray==0.1.10) (1.3.10)\n",
      "Requirement already satisfied: importlib-metadata; python_version < \"3.8\" in /usr/local/lib/python3.7/site-packages (from jsonschema->ray>=1.10->xgboost_ray==0.1.10) (6.0.0)\n",
      "Requirement already satisfied: importlib-resources>=1.4.0; python_version < \"3.9\" in /usr/local/lib/python3.7/site-packages (from jsonschema->ray>=1.10->xgboost_ray==0.1.10) (5.10.2)\n",
      "Requirement already satisfied: pyrsistent!=0.17.0,!=0.17.1,!=0.17.2,>=0.14.0 in /usr/local/lib/python3.7/site-packages (from jsonschema->ray>=1.10->xgboost_ray==0.1.10) (0.19.3)\n",
      "Requirement already satisfied: distlib<1,>=0.3.6 in /usr/local/lib/python3.7/site-packages (from virtualenv->ray>=1.10->xgboost_ray==0.1.10) (0.3.6)\n",
      "Requirement already satisfied: platformdirs<3,>=2.4 in /usr/local/lib/python3.7/site-packages (from virtualenv->ray>=1.10->xgboost_ray==0.1.10) (2.6.2)\n",
      "Requirement already satisfied: six>=1.5.2 in /usr/local/lib/python3.7/site-packages (from grpcio<=1.43.0,>=1.28.1->ray>=1.10->xgboost_ray==0.1.10) (1.13.0)\n",
      "Requirement already satisfied: urllib3<1.27,>=1.21.1 in /usr/local/lib/python3.7/site-packages (from requests->ray>=1.10->xgboost_ray==0.1.10) (1.26.14)\n",
      "Requirement already satisfied: idna<4,>=2.5; python_version >= \"3\" in /usr/local/lib/python3.7/site-packages (from requests->ray>=1.10->xgboost_ray==0.1.10) (3.4)\n",
      "Requirement already satisfied: certifi>=2017.4.17 in /usr/local/lib/python3.7/site-packages (from requests->ray>=1.10->xgboost_ray==0.1.10) (2022.12.7)\n",
      "Requirement already satisfied: charset-normalizer~=2.0.0; python_version >= \"3\" in /usr/local/lib/python3.7/site-packages (from requests->ray>=1.10->xgboost_ray==0.1.10) (2.0.12)\n",
      "Requirement already satisfied: zipp>=0.5 in /usr/local/lib/python3.7/site-packages (from importlib-metadata; python_version < \"3.8\"->jsonschema->ray>=1.10->xgboost_ray==0.1.10) (3.12.0)\n",
      "Installing collected packages: wrapt, xgboost-ray, click\n",
      "Successfully installed click-8.0.4 wrapt-1.14.1 xgboost-ray-0.1.10\n",
      "\n",
      "WARNING: The directory '/home/.cache/pip' or its parent directory is not owned or is not writable by the current user. The cache has been disabled. Check the permissions and owner of that directory. If executing pip with sudo, you may want sudo's -H flag.\n",
      "\n",
      "WARNING: The directory '/home/.cache/pip' or its parent directory is not owned or is not writable by the current user. The cache has been disabled. Check the permissions and owner of that directory. If executing pip with sudo, you may want sudo's -H flag."
     ]
    }
   ],
   "source": [
    "sc.install_pypi_package(\"xgboost==1.6.2\")\n",
    "sc.install_pypi_package(\"xgboost_ray==0.1.10\")"
   ]
  },
  {
   "cell_type": "code",
   "execution_count": 25,
   "metadata": {},
   "outputs": [
    {
     "data": {
      "application/vnd.jupyter.widget-view+json": {
       "model_id": "",
       "version_major": 2,
       "version_minor": 0
      },
      "text/plain": [
       "FloatProgress(value=0.0, bar_style='info', description='Progress:', layout=Layout(height='25px', width='50%'),…"
      ]
     },
     "metadata": {},
     "output_type": "display_data"
    },
    {
     "name": "stdout",
     "output_type": "stream",
     "text": [
      "--- Logging error ---\n",
      "Traceback (most recent call last):\n",
      "  File \"/usr/lib64/python3.7/logging/__init__.py\", line 1028, in emit\n",
      "    stream.write(msg + self.terminator)\n",
      "  File \"/mnt3/yarn/usercache/livy/appcache/application_1675488897820_0019/container_1675488897820_0019_01_000001/tmp/334018533851454232\", line 537, in write\n",
      "    super(UnicodeDecodingStringIO, self).write(s)\n",
      "ValueError: I/O operation on closed file\n",
      "Call stack:\n",
      "  File \"/mnt3/yarn/usercache/livy/appcache/application_1675488897820_0019/container_1675488897820_0019_01_000001/tmp/334018533851454232\", line 719, in <module>\n",
      "    sys.exit(main())\n",
      "  File \"/mnt3/yarn/usercache/livy/appcache/application_1675488897820_0019/container_1675488897820_0019_01_000001/tmp/334018533851454232\", line 691, in main\n",
      "    response = handler(content)\n",
      "  File \"/mnt3/yarn/usercache/livy/appcache/application_1675488897820_0019/container_1675488897820_0019_01_000001/tmp/334018533851454232\", line 321, in execute_request\n",
      "    result = node.execute()\n",
      "  File \"/mnt3/yarn/usercache/livy/appcache/application_1675488897820_0019/container_1675488897820_0019_01_000001/tmp/334018533851454232\", line 227, in execute\n",
      "    exec(code, global_dict)\n",
      "  File \"<stdin>\", line 7, in <module>\n",
      "  File \"/usr/local/lib/python3.7/site-packages/ray/data/read_api.py\", line 594, in read_csv\n",
      "    **arrow_csv_args,\n",
      "  File \"/usr/local/lib/python3.7/site-packages/ray/data/read_api.py\", line 292, in read_datasource\n",
      "    f\"{WARN_PREFIX} The number of blocks in this dataset ({len(read_tasks)}) \"\n",
      "Message: '⚠️  The number of blocks in this dataset (1) limits its parallelism to 1 concurrent tasks. This is much less than the number of available CPU slots in the cluster. Use `.repartition(n)` to increase the number of dataset blocks.'\n",
      "Arguments: ()"
     ]
    }
   ],
   "source": [
    "import ray\n",
    "from ray.train.xgboost import XGBoostTrainer\n",
    "from ray.air.config import ScalingConfig\n",
    "from ray.air.config import RunConfig\n",
    "\n",
    "# Load data.\n",
    "dataset = ray.data.read_csv(\"s3://air-example-data/breast_cancer.csv\")\n",
    "\n",
    "# Split data into train and validation.\n",
    "train_dataset, valid_dataset = dataset.train_test_split(test_size=0.3)\n"
   ]
  },
  {
   "cell_type": "code",
   "execution_count": 28,
   "metadata": {},
   "outputs": [
    {
     "data": {
      "application/vnd.jupyter.widget-view+json": {
       "model_id": "",
       "version_major": 2,
       "version_minor": 0
      },
      "text/plain": [
       "FloatProgress(value=0.0, bar_style='info', description='Progress:', layout=Layout(height='25px', width='50%'),…"
      ]
     },
     "metadata": {},
     "output_type": "display_data"
    },
    {
     "name": "stderr",
     "output_type": "stream",
     "text": [
      "An error was encountered:\n",
      "\n",
      "Traceback (most recent call last):\n",
      "  File \"/usr/local/lib/python3.7/site-packages/ray/train/base_trainer.py\", line 328, in fit\n",
      "    raise TrainingFailedError from e\n",
      "ray.train.base_trainer.TrainingFailedError\n",
      "\n"
     ]
    }
   ],
   "source": [
    "trainer = XGBoostTrainer(\n",
    "    scaling_config=ScalingConfig(\n",
    "        # Number of workers to use for data parallelism.\n",
    "        num_workers=10,\n",
    "        # Whether to use GPU acceleration.\n",
    "        use_gpu=False,\n",
    "    ),\n",
    "    run_config=RunConfig(local_dir=\"/tmp/ray_results\"),\n",
    "    label_column=\"target\",\n",
    "    num_boost_round=20,\n",
    "    params={\n",
    "        # XGBoost specific params\n",
    "        \"objective\": \"binary:logistic\",\n",
    "        \"eval_metric\": [\"logloss\", \"error\"],\n",
    "    },\n",
    "    datasets={\"train\": train_dataset, \"valid\": valid_dataset},\n",
    ")\n",
    "\n",
    "result = trainer.fit()\n",
    "print(result.metrics)"
   ]
  },
  {
   "cell_type": "code",
   "execution_count": null,
   "metadata": {},
   "outputs": [],
   "source": []
  },
  {
   "cell_type": "code",
   "execution_count": null,
   "metadata": {},
   "outputs": [],
   "source": []
  },
  {
   "cell_type": "code",
   "execution_count": 9,
   "metadata": {},
   "outputs": [
    {
     "data": {
      "application/vnd.jupyter.widget-view+json": {
       "model_id": "",
       "version_major": 2,
       "version_minor": 0
      },
      "text/plain": [
       "FloatProgress(value=0.0, bar_style='info', description='Progress:', layout=Layout(height='25px', width='50%'),…"
      ]
     },
     "metadata": {},
     "output_type": "display_data"
    }
   ],
   "source": [
    "# %%cleanup -f"
   ]
  },
  {
   "cell_type": "code",
   "execution_count": 10,
   "metadata": {},
   "outputs": [
    {
     "data": {
      "application/vnd.jupyter.widget-view+json": {
       "model_id": "",
       "version_major": 2,
       "version_minor": 0
      },
      "text/plain": [
       "FloatProgress(value=0.0, bar_style='info', description='Progress:', layout=Layout(height='25px', width='50%'),…"
      ]
     },
     "metadata": {},
     "output_type": "display_data"
    }
   ],
   "source": [
    "# sc.list_packages()"
   ]
  },
  {
   "cell_type": "code",
   "execution_count": 11,
   "metadata": {},
   "outputs": [
    {
     "data": {
      "application/vnd.jupyter.widget-view+json": {
       "model_id": "",
       "version_major": 2,
       "version_minor": 0
      },
      "text/plain": [
       "FloatProgress(value=0.0, bar_style='info', description='Progress:', layout=Layout(height='25px', width='50%'),…"
      ]
     },
     "metadata": {},
     "output_type": "display_data"
    },
    {
     "name": "stdout",
     "output_type": "stream",
     "text": [
      "Collecting plotly\n",
      "  Downloading plotly-5.13.0-py2.py3-none-any.whl (15.2 MB)\n",
      "Collecting tenacity>=6.2.0\n",
      "  Downloading tenacity-8.1.0-py3-none-any.whl (23 kB)\n",
      "Installing collected packages: tenacity, plotly\n",
      "Successfully installed plotly-5.13.0 tenacity-8.1.0\n",
      "\n",
      "WARNING: The directory '/home/.cache/pip' or its parent directory is not owned or is not writable by the current user. The cache has been disabled. Check the permissions and owner of that directory. If executing pip with sudo, you may want sudo's -H flag."
     ]
    }
   ],
   "source": [
    "#sc.install_pypi_package(\"xgboost==1.7.2\")\n",
    "#sc.install_pypi_package(\"scikit-learn\")\n",
    "sc.install_pypi_package(\"plotly\")\n",
    "#sc.install_pypi_package(\"seaborn\")"
   ]
  },
  {
   "cell_type": "code",
   "execution_count": 12,
   "metadata": {},
   "outputs": [
    {
     "data": {
      "application/vnd.jupyter.widget-view+json": {
       "model_id": "",
       "version_major": 2,
       "version_minor": 0
      },
      "text/plain": [
       "FloatProgress(value=0.0, bar_style='info', description='Progress:', layout=Layout(height='25px', width='50%'),…"
      ]
     },
     "metadata": {},
     "output_type": "display_data"
    }
   ],
   "source": [
    "# import xgboost\n",
    "# print(xgboost.__version__)"
   ]
  },
  {
   "cell_type": "code",
   "execution_count": 13,
   "metadata": {},
   "outputs": [
    {
     "data": {
      "application/vnd.jupyter.widget-view+json": {
       "model_id": "",
       "version_major": 2,
       "version_minor": 0
      },
      "text/plain": [
       "FloatProgress(value=0.0, bar_style='info', description='Progress:', layout=Layout(height='25px', width='50%'),…"
      ]
     },
     "metadata": {},
     "output_type": "display_data"
    },
    {
     "name": "stdout",
     "output_type": "stream",
     "text": [
      "<pyspark.sql.session.SparkSession object at 0x7f202a6747d0>"
     ]
    }
   ],
   "source": [
    "spark"
   ]
  },
  {
   "cell_type": "code",
   "execution_count": 22,
   "metadata": {},
   "outputs": [
    {
     "data": {
      "application/vnd.jupyter.widget-view+json": {
       "model_id": "",
       "version_major": 2,
       "version_minor": 0
      },
      "text/plain": [
       "FloatProgress(value=0.0, bar_style='info', description='Progress:', layout=Layout(height='25px', width='50%'),…"
      ]
     },
     "metadata": {},
     "output_type": "display_data"
    },
    {
     "name": "stdout",
     "output_type": "stream",
     "text": [
      "DataFrame[ride_id: bigint, payment_type: int, fare_amount: float, extra: float, mta_tax: float, tip_amount: float, tolls_amount: float, total_amount: float, year: int]"
     ]
    }
   ],
   "source": [
    "df_ride_fare = spark.read.option(\"recursiveFileLookup\", \"true\").parquet(\"s3://dsoaws/nyc-taxi-orig-cleaned-split-parquet-all-years/ride-fare/\")\n",
    "df_ride_fare"
   ]
  },
  {
   "cell_type": "code",
   "execution_count": 23,
   "metadata": {},
   "outputs": [
    {
     "data": {
      "application/vnd.jupyter.widget-view+json": {
       "model_id": "",
       "version_major": 2,
       "version_minor": 0
      },
      "text/plain": [
       "FloatProgress(value=0.0, bar_style='info', description='Progress:', layout=Layout(height='25px', width='50%'),…"
      ]
     },
     "metadata": {},
     "output_type": "display_data"
    },
    {
     "name": "stdout",
     "output_type": "stream",
     "text": [
      "DataFrame[ride_id: bigint, vendor_id: int, passenger_count: tinyint, pickup_at: timestamp, dropoff_at: timestamp, trip_distance: float, rate_code_id: int, store_and_fwd_flag: string, year: int]"
     ]
    }
   ],
   "source": [
    "df_ride_info = spark.read.option(\"recursiveFileLookup\", \"true\").parquet(\"s3://dsoaws/nyc-taxi-orig-cleaned-split-parquet-all-years/ride-info/\")\n",
    "df_ride_info"
   ]
  },
  {
   "cell_type": "code",
   "execution_count": 24,
   "metadata": {},
   "outputs": [
    {
     "data": {
      "application/vnd.jupyter.widget-view+json": {
       "model_id": "",
       "version_major": 2,
       "version_minor": 0
      },
      "text/plain": [
       "FloatProgress(value=0.0, bar_style='info', description='Progress:', layout=Layout(height='25px', width='50%'),…"
      ]
     },
     "metadata": {},
     "output_type": "display_data"
    },
    {
     "name": "stdout",
     "output_type": "stream",
     "text": [
      "DataFrame[ride_id: bigint, payment_type: int, fare_amount: float, extra: float, mta_tax: float, tip_amount: float, tolls_amount: float, total_amount: float, year: int, vendor_id: int, passenger_count: tinyint, pickup_at: timestamp, dropoff_at: timestamp, trip_distance: float, rate_code_id: int, store_and_fwd_flag: string, year: int]"
     ]
    }
   ],
   "source": [
    "df_joined = df_ride_fare.join(df_ride_info, on=\"ride_id\")\n",
    "df_joined"
   ]
  },
  {
   "cell_type": "code",
   "execution_count": 25,
   "metadata": {},
   "outputs": [
    {
     "data": {
      "application/vnd.jupyter.widget-view+json": {
       "model_id": "",
       "version_major": 2,
       "version_minor": 0
      },
      "text/plain": [
       "FloatProgress(value=0.0, bar_style='info', description='Progress:', layout=Layout(height='25px', width='50%'),…"
      ]
     },
     "metadata": {},
     "output_type": "display_data"
    },
    {
     "name": "stdout",
     "output_type": "stream",
     "text": [
      "root\n",
      " |-- ride_id: long (nullable = true)\n",
      " |-- payment_type: integer (nullable = true)\n",
      " |-- fare_amount: float (nullable = true)\n",
      " |-- extra: float (nullable = true)\n",
      " |-- mta_tax: float (nullable = true)\n",
      " |-- tip_amount: float (nullable = true)\n",
      " |-- tolls_amount: float (nullable = true)\n",
      " |-- total_amount: float (nullable = true)\n",
      " |-- year: integer (nullable = true)\n",
      " |-- vendor_id: integer (nullable = true)\n",
      " |-- passenger_count: byte (nullable = true)\n",
      " |-- pickup_at: timestamp (nullable = true)\n",
      " |-- dropoff_at: timestamp (nullable = true)\n",
      " |-- trip_distance: float (nullable = true)\n",
      " |-- rate_code_id: integer (nullable = true)\n",
      " |-- store_and_fwd_flag: string (nullable = true)\n",
      " |-- year: integer (nullable = true)"
     ]
    }
   ],
   "source": [
    "df_joined.printSchema()"
   ]
  },
  {
   "cell_type": "code",
   "execution_count": 26,
   "metadata": {},
   "outputs": [
    {
     "data": {
      "application/vnd.jupyter.widget-view+json": {
       "model_id": "",
       "version_major": 2,
       "version_minor": 0
      },
      "text/plain": [
       "FloatProgress(value=0.0, bar_style='info', description='Progress:', layout=Layout(height='25px', width='50%'),…"
      ]
     },
     "metadata": {},
     "output_type": "display_data"
    },
    {
     "name": "stdout",
     "output_type": "stream",
     "text": [
      "DataFrame[ride_id: bigint, payment_type: int, fare_amount: float, extra: float, mta_tax: float, tip_amount: float, tolls_amount: float, total_amount: float, year: int, vendor_id: int, passenger_count: tinyint, pickup_at: timestamp, dropoff_at: timestamp, trip_distance: float, rate_code_id: int, store_and_fwd_flag: string, year: int]"
     ]
    }
   ],
   "source": [
    "# Drop the following columns:\n",
    "#   \"pickup_longitude\"\n",
    "#   \"pickup_latitude\"\n",
    "#   \"dropoff_longitude\"\n",
    "#   \"dropoff_latitude\"\n",
    "\n",
    "df_dropped = df_joined.drop(\"pickup_longitude\").drop(\"pickup_latitude\").drop(\"dropoff_longitude\").drop(\"dropoff_latitude\")\n",
    "df_dropped"
   ]
  },
  {
   "cell_type": "code",
   "execution_count": 27,
   "metadata": {},
   "outputs": [
    {
     "data": {
      "application/vnd.jupyter.widget-view+json": {
       "model_id": "",
       "version_major": 2,
       "version_minor": 0
      },
      "text/plain": [
       "FloatProgress(value=0.0, bar_style='info', description='Progress:', layout=Layout(height='25px', width='50%'),…"
      ]
     },
     "metadata": {},
     "output_type": "display_data"
    },
    {
     "name": "stdout",
     "output_type": "stream",
     "text": [
      "root\n",
      " |-- ride_id: long (nullable = true)\n",
      " |-- payment_type: integer (nullable = true)\n",
      " |-- fare_amount: float (nullable = true)\n",
      " |-- extra: float (nullable = true)\n",
      " |-- mta_tax: float (nullable = true)\n",
      " |-- tip_amount: float (nullable = true)\n",
      " |-- tolls_amount: float (nullable = true)\n",
      " |-- total_amount: float (nullable = true)\n",
      " |-- year: integer (nullable = true)\n",
      " |-- vendor_id: integer (nullable = true)\n",
      " |-- passenger_count: byte (nullable = true)\n",
      " |-- pickup_at: timestamp (nullable = true)\n",
      " |-- dropoff_at: timestamp (nullable = true)\n",
      " |-- trip_distance: float (nullable = true)\n",
      " |-- rate_code_id: integer (nullable = true)\n",
      " |-- store_and_fwd_flag: string (nullable = true)\n",
      " |-- year: integer (nullable = true)"
     ]
    }
   ],
   "source": [
    "df_dropped.printSchema()"
   ]
  },
  {
   "cell_type": "code",
   "execution_count": 28,
   "metadata": {},
   "outputs": [
    {
     "data": {
      "application/vnd.jupyter.widget-view+json": {
       "model_id": "",
       "version_major": 2,
       "version_minor": 0
      },
      "text/plain": [
       "FloatProgress(value=0.0, bar_style='info', description='Progress:', layout=Layout(height='25px', width='50%'),…"
      ]
     },
     "metadata": {},
     "output_type": "display_data"
    },
    {
     "name": "stdout",
     "output_type": "stream",
     "text": [
      "DataFrame[passenger_count: tinyint, total_amount: float]"
     ]
    }
   ],
   "source": [
    "df_selected = df_dropped.select('passenger_count', 'total_amount').limit(10000000) #.groupby('passenger_count')\n",
    "df_selected"
   ]
  },
  {
   "cell_type": "code",
   "execution_count": null,
   "metadata": {},
   "outputs": [
    {
     "data": {
      "application/vnd.jupyter.widget-view+json": {
       "model_id": "b6e2f02059e443fb8350eb9cd580cb77",
       "version_major": 2,
       "version_minor": 0
      },
      "text/plain": [
       "FloatProgress(value=0.0, bar_style='info', description='Progress:', layout=Layout(height='25px', width='50%'),…"
      ]
     },
     "metadata": {},
     "output_type": "display_data"
    }
   ],
   "source": [
    "import matplotlib.pyplot as plt\n",
    "\n",
    "\n",
    "plt.clf()\n",
    "\n",
    "#df_grouped = df_dropped.limit(100000000).select('passenger_count', 'total_amount').toPandas().groupby('passenger_count').total_amount.mean()\n",
    "df_selected.toPandas().groupby('passenger_count').total_amount.mean().plot(kind='bar')\n",
    "\n",
    "plt.xlabel('Passenger Count')\n",
    "plt.ylabel('Avg Total Amount')\n",
    "\n",
    "plt.title('Passenger Count vs. Avg Total Amount')\n",
    "plt.show()\n",
    "\n",
    "%matplot plt"
   ]
  },
  {
   "cell_type": "code",
   "execution_count": null,
   "metadata": {},
   "outputs": [],
   "source": [
    "# Split the dataset randomly into 70% for training and 30% for testing. Passing a seed for deterministic behavior\n",
    "train, test = df_dropped.randomSplit([0.7, 0.3], seed = 0)\n",
    "print(\"There are %d training examples and %d test examples.\" % (train.count(), test.count()))"
   ]
  },
  {
   "cell_type": "code",
   "execution_count": null,
   "metadata": {},
   "outputs": [],
   "source": [
    "# from pyspark.ml.feature import VectorAssembler, VectorIndexer\n",
    "\n",
    "# # Remove the target column from the input feature set.\n",
    "# featuresCols = df_dropped.columns\n",
    "# featuresCols.remove('total_amount')\n",
    "\n",
    "# # vectorAssembler combines all feature columns into a single feature vector column, \"rawFeatures\".\n",
    "# vectorAssembler = VectorAssembler(inputCols=featuresCols, outputCol=\"rawFeatures\", handleInvalid=\"skip\")\n",
    "\n",
    "# # vectorIndexer identifies categorical features and indexes them, and creates a new column \"features\". \n",
    "# vectorIndexer = VectorIndexer(inputCol=\"rawFeatures\", outputCol=\"features\", maxCategories=100, handleInvalid=\"skip\")"
   ]
  },
  {
   "cell_type": "code",
   "execution_count": null,
   "metadata": {},
   "outputs": [],
   "source": [
    "# #%matplotlib inline \n",
    "# import matplotlib.pyplot as plt"
   ]
  },
  {
   "cell_type": "code",
   "execution_count": null,
   "metadata": {},
   "outputs": [],
   "source": [
    "# type(test)"
   ]
  },
  {
   "cell_type": "code",
   "execution_count": null,
   "metadata": {},
   "outputs": [],
   "source": [
    "# %pip install plotly"
   ]
  },
  {
   "cell_type": "code",
   "execution_count": null,
   "metadata": {},
   "outputs": [],
   "source": [
    "# import pyspark.pandas as ps\n",
    "\n",
    "# test_df = ps.DataFrame(test['passenger_count', 'total_amount'])"
   ]
  },
  {
   "cell_type": "code",
   "execution_count": null,
   "metadata": {},
   "outputs": [],
   "source": [
    "# test_df = test.to_pandas()"
   ]
  },
  {
   "cell_type": "code",
   "execution_count": null,
   "metadata": {},
   "outputs": [],
   "source": [
    "# type(test_df)"
   ]
  },
  {
   "cell_type": "code",
   "execution_count": null,
   "metadata": {},
   "outputs": [],
   "source": [
    "# import seaborn as sns\n",
    "# import matplotlib.pyplot as plt\n",
    "\n",
    "# plt.clf()\n",
    "# sns.distplot(test_df['passenger_count'][100],kde=False)\n",
    "# plt.title('Distribution of Passenger Count')\n",
    "# plt.show()\n",
    "\n",
    "# %matplot plt"
   ]
  },
  {
   "cell_type": "code",
   "execution_count": null,
   "metadata": {},
   "outputs": [],
   "source": [
    "# import matplotlib.pyplot as plt\n",
    "# plt.clf()\n",
    "\n",
    "# test_df.plot.hist(bins=100)\n",
    "\n",
    "# %matplot plt"
   ]
  },
  {
   "cell_type": "code",
   "execution_count": null,
   "metadata": {},
   "outputs": [],
   "source": [
    "%help"
   ]
  },
  {
   "cell_type": "code",
   "execution_count": null,
   "metadata": {},
   "outputs": [],
   "source": []
  }
 ],
 "metadata": {
  "instance_type": "ml.t3.medium",
  "kernelspec": {
   "display_name": "SparkMagic PySpark (SparkAnalytics 2.0)",
   "language": "python",
   "name": "conda-env-sm_sparkmagic-pysparkkernel__SAGEMAKER_INTERNAL__arn:aws:sagemaker:us-east-1:081325390199:image/sagemaker-sparkanalytics-310-v1"
  },
  "language_info": {
   "codemirror_mode": {
    "name": "python",
    "version": 3
   },
   "file_extension": ".py",
   "mimetype": "text/x-python",
   "name": "pyspark",
   "pygments_lexer": "python3"
  }
 },
 "nbformat": 4,
 "nbformat_minor": 4
}
