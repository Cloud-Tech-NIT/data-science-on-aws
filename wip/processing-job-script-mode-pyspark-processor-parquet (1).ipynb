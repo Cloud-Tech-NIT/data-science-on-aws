{
 "cells": [
  {
   "cell_type": "code",
   "execution_count": 2,
   "id": "d2f4d5e9-f30e-4c79-ad0f-7c05bb573fb8",
   "metadata": {
    "tags": []
   },
   "outputs": [],
   "source": [
    "# !pip install -U \"sagemaker>2.0\""
   ]
  },
  {
   "cell_type": "code",
   "execution_count": 3,
   "id": "d5eda1d4-e343-4012-950f-5e607fa81863",
   "metadata": {},
   "outputs": [],
   "source": [
    "import boto3\n",
    "import sagemaker\n",
    "\n",
    "sagemaker_session = sagemaker.Session()\n",
    "bucket = sagemaker_session.default_bucket()\n",
    "role = sagemaker.get_execution_role()\n",
    "region = boto3.Session().region_name\n"
   ]
  },
  {
   "cell_type": "code",
   "execution_count": 4,
   "id": "1312b22f-1cb9-4eba-80ed-f75866cdad67",
   "metadata": {
    "tags": []
   },
   "outputs": [
    {
     "name": "stderr",
     "output_type": "stream",
     "text": [
      "INFO:sagemaker:Creating processing-job with name sm-spark-3-2-py39-2023-02-03-23-12-36-873\n"
     ]
    }
   ],
   "source": [
    "from sagemaker.spark.processing import PySparkProcessor\n",
    "\n",
    "# Run the processing job\n",
    "processor = PySparkProcessor(\n",
    "    base_job_name=\"sm-spark-3-2-py39\",\n",
    "    framework_version=\"3.2\",\n",
    "    image_uri=\"173754725891.dkr.ecr.us-east-1.amazonaws.com/sagemaker-spark-processing:3.2-cpu-py39-v1.0\",\n",
    "    role=role,\n",
    "    instance_count=6,\n",
    "    instance_type=\"ml.m5.24xlarge\",\n",
    "    max_runtime_in_seconds=86400,\n",
    "    volume_size_in_gb=200\n",
    ")\n",
    "\n",
    "\n",
    "######################\n",
    "######################\n",
    "######################\n",
    "\n",
    "# ./code/preprocess-parquet.py\n",
    "\n",
    "######################\n",
    "######################\n",
    "######################\n",
    "\n",
    "processor.run(\n",
    "    submit_app=\"code/preprocess-parquet.py\",\n",
    "    arguments=[\n",
    "        \"--s3_input_bucket\",\n",
    "        \"dsoaws\",\n",
    "        \"--s3_input_key_prefix\",\n",
    "        \"nyc-taxi-orig-cleaned-split-parquet-per-year\",\n",
    "        \"--s3_output_bucket\",\n",
    "        bucket,\n",
    "        \"--s3_output_key_prefix\",\n",
    "        \"nyc-taxi-orig-cleaned-split-parquet-per-year-output\",\n",
    "    ],\n",
    "    spark_event_logs_s3_uri=\"s3://{}/{}/spark_event_logs\".format(bucket, \"nyc-taxi-orig-cleaned-split-parquet-per-year-logs\"),\n",
    "    logs=False,\n",
    "    wait=False\n",
    ")"
   ]
  },
  {
   "cell_type": "code",
   "execution_count": 5,
   "id": "88cb9340-4d1f-41c8-8333-d41755b5356b",
   "metadata": {
    "tags": []
   },
   "outputs": [
    {
     "name": "stdout",
     "output_type": "stream",
     "text": [
      "sm-spark-3-2-py39-2023-02-03-23-12-36-873\n"
     ]
    }
   ],
   "source": [
    "processing_job_name = processor.jobs[-1].describe()[\"ProcessingJobName\"]\n",
    "print(processing_job_name)"
   ]
  },
  {
   "cell_type": "code",
   "execution_count": 6,
   "id": "64616e76-77f0-4dfa-ac5b-1ea07fc9e3fb",
   "metadata": {
    "tags": []
   },
   "outputs": [
    {
     "data": {
      "text/html": [
       "<b>Review <a target=\"blank\" href=\"https://console.aws.amazon.com/sagemaker/home?region=us-east-1#/processing-jobs/sm-spark-3-2-py39-2023-02-03-23-12-36-873\">Processing Job</a></b>"
      ],
      "text/plain": [
       "<IPython.core.display.HTML object>"
      ]
     },
     "metadata": {},
     "output_type": "display_data"
    }
   ],
   "source": [
    "from IPython.core.display import display, HTML\n",
    "\n",
    "display(\n",
    "    HTML(\n",
    "        '<b>Review <a target=\"blank\" href=\"https://console.aws.amazon.com/sagemaker/home?region={}#/processing-jobs/{}\">Processing Job</a></b>'.format(\n",
    "            region, processing_job_name\n",
    "        )\n",
    "    )\n",
    ")"
   ]
  },
  {
   "cell_type": "code",
   "execution_count": 7,
   "id": "bd8117bb-d504-414f-91f7-727b3c1a46aa",
   "metadata": {
    "tags": []
   },
   "outputs": [
    {
     "data": {
      "text/html": [
       "<b>Review <a target=\"blank\" href=\"https://console.aws.amazon.com/cloudwatch/home?region=us-east-1#logStream:group=/aws/sagemaker/ProcessingJobs;prefix=sm-spark-3-2-py39-2023-02-03-23-12-36-873;streamFilter=typeLogStreamPrefix\">CloudWatch Logs</a> After About 5 Minutes</b>"
      ],
      "text/plain": [
       "<IPython.core.display.HTML object>"
      ]
     },
     "metadata": {},
     "output_type": "display_data"
    }
   ],
   "source": [
    "from IPython.core.display import display, HTML\n",
    "\n",
    "display(\n",
    "    HTML(\n",
    "        '<b>Review <a target=\"blank\" href=\"https://console.aws.amazon.com/cloudwatch/home?region={}#logStream:group=/aws/sagemaker/ProcessingJobs;prefix={};streamFilter=typeLogStreamPrefix\">CloudWatch Logs</a> After About 5 Minutes</b>'.format(\n",
    "            region, processing_job_name\n",
    "        )\n",
    "    )\n",
    ")"
   ]
  },
  {
   "cell_type": "code",
   "execution_count": null,
   "id": "a3318a2d-d9ad-46eb-afb8-d9e9a2e49b4d",
   "metadata": {},
   "outputs": [],
   "source": []
  }
 ],
 "metadata": {
  "forced_instance_type": "ml.t3.medium",
  "forced_lcc_arn": "",
  "instance_type": "ml.t3.medium",
  "kernelspec": {
   "display_name": "Python 3 (Data Science)",
   "language": "python",
   "name": "python3__SAGEMAKER_INTERNAL__arn:aws:sagemaker:us-east-1:081325390199:image/datascience-1.0"
  },
  "language_info": {
   "codemirror_mode": {
    "name": "ipython",
    "version": 3
   },
   "file_extension": ".py",
   "mimetype": "text/x-python",
   "name": "python",
   "nbconvert_exporter": "python",
   "pygments_lexer": "ipython3",
   "version": "3.7.10"
  }
 },
 "nbformat": 4,
 "nbformat_minor": 5
}
